{
  "nbformat": 4,
  "nbformat_minor": 0,
  "metadata": {
    "colab": {
      "name": "Project_DIP.ipynb",
      "provenance": [],
      "collapsed_sections": [
        "Eblhm1cbQ7cw"
      ]
    },
    "kernelspec": {
      "name": "python3",
      "display_name": "Python 3"
    },
    "language_info": {
      "name": "python"
    }
  },
  "cells": [
    {
      "cell_type": "code",
      "execution_count": 1,
      "metadata": {
        "id": "VOezWCxAHRVU"
      },
      "outputs": [],
      "source": [
        "import numpy as np\n",
        "import cv2\n",
        "import matplotlib.pyplot as plt\n",
        "from pathlib import Path\n",
        "from sklearn.model_selection import train_test_split\n",
        "import pandas as pd\n",
        "import os"
      ]
    },
    {
      "cell_type": "code",
      "source": [
        "from google.colab import drive\n",
        "drive.mount('/content/drive')"
      ],
      "metadata": {
        "colab": {
          "base_uri": "https://localhost:8080/"
        },
        "id": "aK-sCO0URNkT",
        "outputId": "46ae92c8-7ea3-4893-f5f1-f675161e5fc7"
      },
      "execution_count": 2,
      "outputs": [
        {
          "output_type": "stream",
          "name": "stdout",
          "text": [
            "Drive already mounted at /content/drive; to attempt to forcibly remount, call drive.mount(\"/content/drive\", force_remount=True).\n"
          ]
        }
      ]
    },
    {
      "cell_type": "code",
      "source": [
        "cd drive/MyDrive/Project_DIP/Dataset"
      ],
      "metadata": {
        "colab": {
          "base_uri": "https://localhost:8080/"
        },
        "id": "2niOGGNjJFZ9",
        "outputId": "6c4dd3a6-f3c1-4efc-dcd2-be67b6afa84f"
      },
      "execution_count": 3,
      "outputs": [
        {
          "output_type": "stream",
          "name": "stdout",
          "text": [
            "/content/drive/MyDrive/Project_DIP/Dataset\n"
          ]
        }
      ]
    },
    {
      "cell_type": "code",
      "source": [
        "directories = os.listdir()\n",
        "filename = []\n",
        "label = []\n",
        "\n",
        "for i in range(0, len(directories)):\n",
        "  os.chdir(directories[i])\n",
        "  files = os.listdir()\n",
        "  for j in range(0, len(files)):\n",
        "    files[j] = directories[i] + '/' + files[j]\n",
        "    label.append(directories[i])\n",
        "  filename = filename + files\n",
        "  os.chdir(\"..\")\n",
        "print(filename)\n",
        "print(label)"
      ],
      "metadata": {
        "colab": {
          "base_uri": "https://localhost:8080/"
        },
        "id": "cUWuIMrUL9kR",
        "outputId": "7ccf5fcc-9093-4cf1-ce8f-613c9c11e0f4"
      },
      "execution_count": 4,
      "outputs": [
        {
          "output_type": "stream",
          "name": "stdout",
          "text": [
            "['rock/AfK6szcUXW6HDlxI.png', 'rock/AbZoX8Iv6xigsR42.png', 'rock/FQKAKSGEI0OuRQhh.png', 'rock/DFi1cIxsQrXxIoWn.png', 'rock/IR0TvCNLcK7IrE1a.png', 'rock/0NDYNEoDui7o64gU.png', 'rock/3ONDEuB8iwAYO1Uz.png', 'rock/Gr80cGhz5I8abSjg.png', 'rock/EQDfrFWZluld6aKP.png', 'rock/H2lQHx5y3oy8mLSL.png', 'rock/H97IYAhAPk2kHnsI.png', 'rock/INutMuoFBgugllQm.png', 'rock/BYG1hwCG8M64UXIV.png', 'rock/FYSbYWccrDFMHVee.png', 'rock/G1MuiTHGqQ6CN122.png', 'rock/7cNxwgrraQGeA1LA.png', 'rock/CpWDLKaUbf6poyIj.png', 'rock/2UaJz6Z3xJv3WX9h.png', 'rock/EPqSt5HeGNMhPaeR.png', 'rock/00nKV8oHuTGi20gq.png', 'rock/BnnRzew7yA30gyts.png', 'rock/19H63c0MWD56EWNq.png', 'rock/724DhutGELMHY1uD.png', 'rock/9OOydp53FQwUHu3u.png', 'rock/4iN0sQcmcukBN652.png', 'rock/FF2mNwRujDxzozUQ.png', 'rock/6TC3PefZj9PxEdqz.png', 'rock/2f25VA1nfxiC86xj.png', 'rock/9ElQEC0AP2RtKdOo.png', 'rock/H4DhPewFGkdWrc4A.png', 'rock/6HFAfRozG6L6n9fl.png', 'rock/9Ke26ZpKvhVSXl4V.png', 'rock/1vvcitV1s17gKdbn.png', 'rock/EwKdZirU6MwYRV13.png', 'rock/02vG75hQW9Vp4oTl.png', 'rock/1e1VCnCEApnFh9Oo.png', 'rock/51TTZXCnAuk3Ck6s.png', 'rock/H3USQGpRNkk6KyXa.png', 'rock/Gyq9GJFTfF1vvOZ8.png', 'rock/1DxbXT3M2qiMjCmC.png', 'rock/AuO0jNEKCbMzb7Xf.png', 'rock/FFAcRoW2ejkNNheZ.png', 'rock/2DdERUV7Te8ivywq.png', 'rock/84UHPxArtBOr8GF2.png', 'rock/2HSPQEteONUjEXAF.png', 'rock/1COBZEE1ALiJIivQ.png', 'rock/HAz9geTMx5aynaaE.png', 'rock/HiWw0r0djGMscUQD.png', 'rock/4VYEe9NSyMlJmXUx.png', 'rock/8xToYACSoKU0swum.png', 'rock/DqakRofDCq0ryI49.png', 'rock/9j89H6omx9ieI8sf.png', 'rock/DXlFk9LGWpbBewq2.png', 'rock/BOswKcczxw8dC4kY.png', 'rock/D7Ykcj1tYAannu8h.png', 'rock/5sdSnAPfphSzXjWu.png', 'rock/3Umm2S8TUyEpkbCY.png', 'rock/9a9TiJDB5oAWqO9U.png', 'rock/3k7WrSAInCaatFtl.png', 'rock/545XFudcV0UlnH2Y.png', 'rock/2j9iOcnxJzcyaFB5.png', 'rock/0OEXfEooCXlljaEl.png', 'rock/ALFXBdM6k9V1h3EH.png', 'rock/8pAWVg9BVmtha8LM.png', 'rock/ELmZ4ELVncvjq7J6.png', 'rock/C5KTDubAmdwtcK6u.png', 'rock/F2MYeViv785ejIrb.png', 'rock/0P6uxM8Vr1DwySHe.png', 'rock/3aRXheNUQ6cxechp.png', 'rock/F9QovHPXetKcOokD.png', 'rock/8zsAtTLXniXCu2Jx.png', 'rock/I8DyB4yRN0Q8voWp.png', 'rock/Bm9hYmhGUGmKxDwK.png', 'rock/CZMVXF6ReNFTmQu3.png', 'rock/HWvrWXLQywNe1aCF.png', 'rock/2nSUlcvPf1DOCo1j.png', 'rock/8vkvSVmLwxY1SH3p.png', 'rock/EcChvTuoNsCzjFUQ.png', 'rock/4UMcbmjgoJ8vsU3G.png', 'rock/BvjXvNTvapIFq4bK.png', 'rock/GgPhnXFElpasCa0C.png', 'rock/HxzCqTAGvmLYaHjA.png', 'rock/2MKZD0VUw7Tez2Jx.png', 'rock/ADOiIs56eyYsunID.png', 'rock/4QtEaLUAuzeJZKdK.png', 'rock/6TEsyzE1MEK6Xg31.png', 'rock/IoVOalbQe90ghv9U.png', 'rock/2O9XPBJRT119drWX.png', 'rock/9buKAwFejr8MhkAF.png', 'rock/EvpZ7BPu3bibrvM2.png', 'rock/01dM3ewPIsnBICu1.png', 'rock/BsWasfK2PdoRNEDw.png', 'rock/7wFK6yhjKaNkhwZs.png', 'rock/HptkIYoVoE2yV9Yk.png', 'rock/9JYn3D5vkXtrasPJ.png', 'rock/GksMLm2b4t6sUYzY.png', 'rock/6HsTnF20TAnDZiRT.png', 'rock/FbQKEoixvDyDPu0c.png', 'rock/DVPUHpNyCvJxx69v.png', 'rock/Gq8pcFEIriCTMoBY.png', 'rock/2JRYQXb5kmlhgD5i.png', 'rock/B4x3aTJOO6e3BIIX.png', 'rock/Bv1IS98JTiuZC7Bs.png', 'rock/9STiLxSOXvh5kjda.png', 'rock/EnikAJKQGkMfX5ax.png', 'rock/AydtaubqlFzR1W5x.png', 'rock/9txR3KPmEGdjo4A6.png', 'rock/DJUhF4lvtGZoaatl.png', 'rock/DxBmPozYTIgMWX7j.png', 'rock/AiAPUXqX24FjC0mU.png', 'rock/7xXAch1NxPhoEdk4.png', 'rock/EvCwicQf5dVFto6x.png', 'rock/IFr9SXl5OScOlvuk.png', 'rock/5yHTRIIDcdrXqMYJ.png', 'rock/7YpH9C6XA1GIbSum.png', 'rock/5EEdNZWT8M9PThPB.png', 'rock/1UXuUYJ4rVj2eSvt.png', 'rock/9Ylbn7DgtTyKKNuM.png', 'rock/I9Ej8xGU5ivG8R2F.png', 'rock/4ZVOE4DxJDxaysrR.png', 'rock/AzWs0iUTTu8bLtsw.png', 'rock/3XNPuMFoaFCfRCVb.png', 'rock/DEX2gmMwS3fxdi23.png', 'rock/7O4sybfz26sg4yrF.png', 'rock/1MOm36DHK0R8OfIC.png', 'rock/9Xi2VuW7sti2BV2H.png', 'rock/6ZuyUqrA3gcHdfCe.png', 'rock/1mnAKQCHEDbtjPX2.png', 'rock/91nHRDpe6EROWOyY.png', 'rock/6AcmgOHcOvQfp1iW.png', 'rock/32PDtFdAkUiAJbmP.png', 'rock/E5mlbTDFPHA7QX9U.png', 'rock/5cJA6BncdVbygRNL.png', 'rock/GRUlZRON6TdcmAOe.png', 'rock/A2j94231CiW6OKA0.png', 'rock/86KzO2PHymh6qYQ4.png', 'rock/BSMMOAJotDbg08rj.png', 'rock/E4kPnJ376NIwG4Mh.png', 'rock/3sQLj3fYBZhheJ7K.png', 'rock/Aa9hY8wo2ixaUNKH.png', 'rock/337ARHTZmhCSkoEM.png', 'rock/8WivsxbidGW1wvnx.png', 'rock/5G0hCO6RJXNyxcgV.png', 'rock/6sInddznuGf5KuRo.png', 'rock/IRSnSZdAUmx8ZVkD.png', 'rock/1VoYiUgPE6h45MLu.png', 'rock/3MSy75FXVzhhLg77.png', 'rock/2EAkMCm7ZLnNoBQ7.png', 'rock/DBvjNfYD7dv2f3gw.png', 'rock/85dWwzSo83sQnsoh.png', 'rock/H5UvLsMVpHQH2q0i.png', 'rock/2affjOmZChc9AXpR.png', 'rock/1BqjHe5igJAgUjiN.png', 'rock/FopS2RV432i19UVz.png', 'rock/I1T89xw2qr4aTrzq.png', 'rock/3wrX8EawcOolzrAY.png', 'rock/5nKDkVzIMQWmtReM.png', 'rock/8pxbBnbfqzX3ijVM.png', 'rock/9sJrWSSurvaNb8FW.png', 'rock/Dt2vWLtAYm3XeQpx.png', 'rock/CKLOvn69epi2Qcxg.png', 'rock/5dxMkdp9L1r6Dv8X.png', 'rock/IQZU5YimtmEB2sSk.png', 'rock/4yPN1zUFqW6ROTgq.png', 'rock/BTcHjuerLAYWzx8S.png', 'rock/5uXiqEc4q2Vi0NCX.png', 'rock/Bvw2wNs7Vb4H5nx9.png', 'rock/5qDxuZZrlJjTW8ld.png', 'rock/GsInYLhWgEFn0geb.png', 'rock/0bioBZYFCXqJIulm.png', 'rock/GwUjjywvFAhLUYYm.png', 'rock/GQjExZ14HfbKjnEp.png', 'rock/IumhcLm1sbOr4pXt.png', 'rock/EPFt6X0fS9c97Y5y.png', 'rock/IIRbCSbDRuQjm456.png', 'rock/6NSGRQDw4M2amVcH.png', 'rock/GUpnzDfAkw6bmia1.png', 'rock/7xID6kq32pdkEBIe.png', 'rock/8EjcPHxZBpTtX8bM.png', 'rock/BYoDUgGsCMmAIF9I.png', 'rock/6bGxG6c9DxmZBcIB.png', 'rock/2uxDLQKemRqulhIx.png', 'rock/GA6w6DqplIPDNDeO.png', 'rock/5Zca8AdXnpDvoz18.png', 'rock/7gcPqW9meL8zJHFF.png', 'rock/BMet9oI6hmx1zdc9.png', 'rock/45lUkDFTSG9E7qOr.png', 'rock/2uVMdMj10yjpR6Py.png', 'rock/9TeUwuSOgtGgewNL.png', 'rock/96Sw16ZnG0zF8Qo0.png', 'rock/1wk2Hl1Ih9guOwx6.png', 'rock/GP5y9O5zbmzBGtzr.png', 'rock/IcqtnpGHgStAPMXM.png', 'rock/Hz5ynYPew6XqaLdO.png', 'rock/BRCnAE1A7rvm7o8V.png', 'rock/5QHZzfwp2xJXckQb.png', 'rock/HnWLgtGVbnoPAaMK.png', 'rock/6ZWuYAkiYnDTDa2N.png', 'rock/8CjXmw1rSkNLaj6p.png', 'rock/CEyvCbffQZzgGEL4.png', 'rock/1WuMUpzupKs67q29.png', 'rock/8HKeT2oFz3gPSW0p.png', 'rock/FVTXzNJQnU231QXO.png', 'rock/94oKRQFyit6SANlq.png', 'rock/7Dh4gBDJVdP9tTLr.png', 'rock/1UucZqS3qblvU0cH.png', 'rock/82wZr9Bpl9vfsoG1.png', 'rock/4vXhIZv7KkPhyfX9.png', 'rock/IY007WkIgMgYMJRj.png', 'rock/EfKcpzUsdKq9J3VN.png', 'rock/43pApTDJOff5Fy62.png', 'rock/3XqpRCrIK65ostOr.png', 'rock/FOmEbxM5mn9WC2sT.png', 'rock/HTlhfHf6CMkGBrlh.png', 'rock/CkjdMgxvvA6Ll8Ca.png', 'rock/2vwLOZSd8FCXbuck.png', 'rock/HY0UHs2e3ydpvynQ.png', 'rock/6QrCGRwuFLPn0VIH.png', 'rock/2NmrcDGkc7FQuu12.png', 'rock/FAXYcAg30rtQnofW.png', 'rock/HLf2liRRQ2FM3PWB.png', 'rock/2Pt5UNQkMzXLtbEp.png', 'rock/IQNb5XBjdbYa7A2W.png', 'rock/BFVK8zqyFZ9SFqm4.png', 'rock/HHXLX66BbEVNYl6W.png', 'rock/C82Z7IFPlfaDFF71.png', 'rock/7NqXwATGidLt6kZY.png', 'rock/81eTWj04M9fRjy51.png', 'rock/5SeLlZliRJtZAnIZ.png', 'rock/DHqDt7x3dw4jZmp9.png', 'rock/9kYPKMVtd4nOvSK4.png', 'rock/DNnBWydGbZkwxkWz.png', 'rock/4RyeZiScDO5Z45oG.png', 'rock/F9aco7lZecystG3Z.png', 'rock/FPa2M1e589cxIyfR.png', 'rock/EvmNpXcSU8y41PXX.png', 'rock/FqRqtazi3LD2vwsr.png', 'rock/aM5kGWsMPDGNdc3J.png', 'rock/OTf1IyhsDRDSoYTw.png', 'rock/PXIxKdf4DvyHXy89.png', 'rock/XqR9QAFi9qQMUdw2.png', 'rock/c1rdxANL8E7yG3ZI.png', 'rock/PZqNg7IprOGg561e.png', 'rock/W502bu3C93KtmDol.png', 'rock/aB0M38mmr711uzAY.png', 'rock/Qm3EaazkLKL9qJJz.png', 'rock/UDjD30Rke7seRcaD.png', 'rock/evxvBwQgL8Kvv67C.png', 'rock/Mi2FjtLVdVgcJHxP.png', 'rock/UEdiy4khJQHK0ofn.png', 'rock/MReo7XBz7dmQ5HdE.png', 'rock/UjbgpVjrwzH0XvuD.png', 'rock/QO4ebj2KlmPIU1Eo.png', 'rock/LlDkBm3uklZkHrB0.png', 'rock/gN9QXTe8BSMMHyAn.png', 'rock/fl3m2aXD9qq7un0x.png', 'rock/KYa6DwgYNkoUZhMp.png', 'rock/bvMd98SEEKS3YxmD.png', 'rock/JslFc8olsoXrWyG0.png', 'rock/d5fTHW3xnYsDhax5.png', 'rock/XNzFnFkneYMqJQOF.png', 'rock/gaackCmGss3Lt4tj.png', 'rock/JOaPrPIINVvoI9l4.png', 'rock/dwcRLIlsRlaRevNn.png', 'rock/Iyr7ONoegMltn92L.png', 'rock/SEKWYxTtThyvg3UX.png', 'rock/SNEJ1wGU1s9Dm3I1.png', 'rock/N5RzLbTF6dlVDkbx.png', 'rock/PYmGQFC1zj7mP3vh.png', 'rock/Lasz75PzyTyufo0u.png', 'rock/OCa85cn2JdZzOe8c.png', 'rock/UXc8KgQBF2jXEa9j.png', 'rock/Xt7qc6XbbZ4OcpW6.png', 'rock/Q2rRUGWBDy47XucJ.png', 'rock/fa3PZHjdAUZAob3q.png', 'rock/NzQfD5IzPphBZNKi.png', 'rock/RpCSMPJ0LhFPYksZ.png', 'rock/N3pHY9fO1y0jdeVu.png', 'rock/g9lqYZfHWUb3cm08.png', 'rock/bn4i63wrObqbJECw.png', 'rock/gaZKijiVXyjhSLYp.png', 'rock/Mhco9qeEh5TV83cQ.png', 'rock/RJSM8dpspJB6ckmX.png', 'rock/NlFsco3hpee3X0wS.png', 'rock/O5SEqKQq5Ui3pS57.png', 'rock/ZWKMxS1Yoa5ZvkOz.png', 'rock/gc8jqxVapG2o8ol1.png', 'rock/X4UIuiTnzUP68r86.png', 'rock/abNcCRBP8z4cNQco.png', 'rock/WB7EanJC16YLgogF.png', 'rock/Tp8sMtigMXoyabfq.png', 'rock/R0j5MW4t8SU59u7x.png', 'rock/LSpFmcm9V8jmdhR3.png', 'rock/UuozdYFAjozEdiMj.png', 'rock/YllhyQANozETi3MM.png', 'rock/UElo8u1bUerF3JNe.png', 'rock/Ym1qa4AJM9udyyyL.png', 'rock/dLacOlQK2ZsURwOa.png', 'rock/JIdgNYR5ymqv8uxv.png', 'rock/Yzx0RwB2AFNAvC6s.png', 'rock/UCkxupMKtpEo5qdk.png', 'rock/fsN97zyPFSfYwnsS.png', 'rock/bX0QhJtFkkDn1bEw.png', 'rock/T6biQxOCDlM5ad7k.png', 'rock/MhOAtto6kcc8xsKr.png', 'rock/UOBPeuMnZRb6Ycug.png', 'rock/gIuYTYdTVKnNAc5m.png', 'rock/S9iRciyZ0OktMu7s.png', 'rock/Xq3zZyHBFpklvwb6.png', 'rock/bsXoToIcgrXUypd0.png', 'rock/YsMoNGFWu7H9X7DM.png', 'rock/WoSeauZwsvZTvL5B.png', 'rock/YmNXS0VhjQjldK3P.png', 'rock/bVzc0yl2Cm3xkOgB.png', 'rock/ad5rtBQRrXNma3u9.png', 'rock/XdWXMPZZwwXhwYGI.png', 'rock/QM8un28uGzplAkrb.png', 'rock/ZWrzVOGgkuKQRDnQ.png', 'rock/ZPRYcDY3SAyZigkB.png', 'rock/QSa6ILjZeRdKM5Fz.png', 'rock/Zyzp7nBCojgQeCZs.png', 'rock/No7Qf3DONPRwor5U.png', 'rock/NjO1nKIuSLnWpnK0.png', 'rock/UJ1D4UeUI0pnDG5h.png', 'rock/SlAF95clUBus3B4a.png', 'rock/SDUe3SDAEKYJId8m.png', 'rock/MwjRfqp6Gnh4vHI8.png', 'rock/YIHmMbsN487PuNaH.png', 'rock/bsj2s38rcZvedHSI.png', 'rock/W7LNJeGLwxY8gzGf.png', 'rock/cfFHU3Y39yeofrTg.png', 'rock/NND8kMRxPKa3HfWX.png', 'rock/OCVnkabSoNdmkHiU.png', 'rock/fnIIkyRgH6znwmNp.png', 'rock/MLmBabhqRs9Gxec0.png', 'rock/PqlEUvTdVyPPQUUI.png', 'rock/JmcPS1QNxo3NDlk0.png', 'rock/RYxKlMYeLJcQ63zQ.png', 'rock/KKYleXVUgi0h0np4.png', 'rock/MgF3uIzpCPWudb3N.png', 'rock/fK7m8vZQS1RUHcMr.png', 'rock/eb93o1ZDeBlrdfyc.png', 'rock/VnSCn5IIg7m8d9Os.png', 'rock/JqR15GsfOszxXGP2.png', 'rock/KtMqF92CMvQOIRrO.png', 'rock/bC7OWmNYjZLjLYnd.png', 'rock/O5iExVmt45IRGquU.png', 'rock/brPQ0E5Gk9L0FHey.png', 'rock/f1yI657Ka9iHuVGB.png', 'rock/J5ZDRE5Cp9jyHs7s.png', 'rock/OYgsl2meK8nj0c8l.png', 'rock/JspEtoXj1u5CjLmG.png', 'rock/brzyLjsQoGb8cmBe.png', 'rock/ZUROGMkonFX6dWC9.png', 'rock/Shr7grl23ISlh4Yu.png', 'rock/aWvWsXj1NL19dskm.png', 'rock/StZmJNdxOScdAqF0.png', 'rock/g04l14MAwqQthuWW.png', 'rock/aEjSJwrTtf651GLm.png', 'rock/NuJjhPSItSWUuMOk.png', 'rock/eJ5fbY23rZWUULxO.png', 'rock/ODhkT6k9Xdoj9xG7.png', 'rock/Zz52yCODsLplv7rK.png', 'rock/fMQzh7RRM5fbtBiC.png', 'rock/X9KQv42y96rD2TO9.png', 'rock/SE5eUJl8euX8gTJ3.png', 'rock/N235Vnlue0M9SwaK.png', 'rock/Mfz7ZRZdZeRxFYAf.png', 'rock/f48wzqwquNrvjICP.png', 'rock/esqqaIq6wKOr8EK6.png', 'rock/cfyxwMjZmO6RYzLq.png', 'rock/bdO9pxWWsTRxmT2z.png', 'rock/PHtj2zrPulp3AIKv.png', 'rock/V3wtZLDoj8UyjEh4.png', 'rock/XQVw2vKQl0dywWDc.png', 'rock/foxUXc8WPRDAd6LM.png', 'rock/ZljuXHZdMhwFPe6H.png', 'rock/dnss2tOuxRmL0ZjZ.png', 'rock/WRIlJop0nm7zZfg3.png', 'rock/gRiBjZUJv5LqQXYZ.png', 'rock/ON7ALRXFwvKHbBPL.png', 'rock/aa9v011U1AB9hK5v.png', 'rock/YipqelrMu7Sd6whV.png', 'rock/VkRNUIG8Q54sx8r4.png', 'rock/Xshr8uYgfxIuHXyO.png', 'rock/QKlibCXvATAv2H4i.png', 'rock/WuAzBDRg8CTEJS9v.png', 'rock/PgQOJNqwh3jq6vCr.png', 'rock/Lz2cVZ7LSaoXHcgr.png', 'rock/cx9zu6O87PURa2ve.png', 'rock/NpJEIrbBZBhud8tg.png', 'rock/PDgemOaqWAiKPIcw.png', 'rock/MJkLyjWTzbjL8qyk.png', 'rock/TI2gNkqMM5nOpoB0.png', 'rock/Vt8bxMbkU4svFwyN.png', 'rock/clIAiFiURAZ36c8y.png', 'rock/MKU8h3j49NjuhQpi.png', 'rock/Jr45GnbiZqBa7TLX.png', 'rock/Q7dUVly6sK3jyeMM.png', 'rock/MW1oWcAD7q1t0Ie6.png', 'rock/OQpJdqlKKADyIvtb.png', 'rock/dZ6rscIYTbmlwVZE.png', 'rock/Kp9F0tIiHIT310h6.png', 'rock/aFWGfqQgf0jt1h7g.png', 'rock/PFyOS0TL9gRsnYi8.png', 'rock/ULTg1DfgsXpxo2lJ.png', 'rock/QSPgUc6QCA1kNLin.png', 'rock/ZeANrD34jghq5aPt.png', 'rock/f2pYnAURozqBDJDy.png', 'rock/e6cXS0w2KOKKEYZU.png', 'rock/fjPydEfNWCvgobYu.png', 'rock/LCmGn9hnX6JQZ6lT.png', 'rock/Mwr4GgRRk6BgHDVL.png', 'rock/TLbqMqwDrww8CS0p.png', 'rock/RkKc61MLjm4clTPg.png', 'rock/Qs7kzLICH4ZpdyPo.png', 'rock/eTo9zgxdhJJAvrfM.png', 'rock/UMhiPBxOmfSpItMU.png', 'rock/PxixapAFqLmRaP6k.png', 'rock/NSlKVMz6GymflBze.png', 'rock/cJOgpmKKBSPdPSeD.png', 'rock/aZ8XOOHozlep9lS2.png', 'rock/Z1iNm9ej2ER2TGtC.png', 'rock/XRnYppsMGdfUa5mZ.png', 'rock/fLFzQoErbCBRR6NM.png', 'rock/eHSa1nP8bmRToqyG.png', 'rock/LHgGYA3vlHkUXzID.png', 'rock/Yux1PtSfRvXafFLT.png', 'rock/d9UIt2WF1O9DYHPA.png', 'rock/KQqIoVT62pLqhEGR.png', 'rock/Jg78GVOKbbyQchWq.png', 'rock/R5gwWLVoqodxD3Q8.png', 'rock/O0YV4V0z2pe4kxwx.png', 'rock/VxODCZVhiNVfWsLj.png', 'rock/R5nXVOQnotizkrJB.png', 'rock/Wq3GbJvvJWcF9OoW.png', 'rock/LzPap5344J7kKj2P.png', 'rock/WTNxLmYXbSvxjksk.png', 'rock/PP5HF3TrSg1DzqjX.png', 'rock/T0Ac7jx8YlCdhjXB.png', 'rock/UCZq5Q5ovMiGJLwX.png', 'rock/QF1S0sqb6YGe4GNP.png', 'rock/L1nqVqYSFwToHPKG.png', 'rock/QPdZme1zmTH0NIlM.png', 'rock/LF4yf48q3qRLLZNS.png', 'rock/U4HuPlTKsnXYExzJ.png', 'rock/Z2rJQc2FfElAoITB.png', 'rock/Khsb4fYDiZjyXfBP.png', 'rock/ReFXAsLF8NkgNAL4.png', 'rock/XLXLcpDFWHNVkYQ6.png', 'rock/QdUOXLvrrFZbV5G6.png', 'rock/dD2TpDGv5gsYUJAl.png', 'rock/KC8RPAtZSyUL0vaR.png', 'rock/dLrum1jVnQix8sV5.png', 'rock/ZM4bG569OHTj1XMT.png', 'rock/JMkBm2iBy4VxFChU.png', 'rock/JXD8WyY4cQoEyvtU.png', 'rock/dxfucopsE3UFuH28.png', 'rock/QzJOhsnnTjhfspc0.png', 'rock/cWKDIx5D1KB0zqjF.png', 'rock/Rc1dJyDnXnSjnpoH.png', 'rock/RyjWflLmOIWqcYXi.png', 'rock/dA1kwqyPaGEErN3j.png', 'rock/cy37is7PNfZQJ6SU.png', 'rock/Wy9ESbYGxHgmqy9H.png', 'rock/eGm3dLnWBxRrjlJX.png', 'rock/Jgjf4Q4LunuuLJKq.png', 'rock/Wn0jBu6LOl5Ei5GN.png', 'rock/N3Qml9f8reG31r5b.png', 'rock/Q7EjH9y5ipAktIG6.png', 'rock/gPFCK0WnHem9uYEW.png', 'rock/LvqSpAbFMyQ1H0Ms.png', 'rock/PvAvhK0mbyEq1fcC.png', 'rock/Tz2CIaI6bZXdon61.png', 'rock/NQxWkhRHMkt2GrpB.png', 'rock/bu8W5hPRULeRi0Kr.png', 'rock/O3ko4JxjCkdULELr.png', 'rock/XmtW0hEB1JqbZ3eu.png', 'rock/gjdBDXv7avQwgTr3.png', 'rock/bqpOIN5gUl0r6vIS.png', 'rock/OavUnCwAEACzIK0A.png', 'rock/JxhewAxaOg3wB1gA.png', 'rock/XRzyLHESg63okg01.png', 'rock/ZVYkpv1wvpH7lSDu.png', 'rock/fQPCA8oYZ8ywDgyv.png', 'rock/fiivFS9iUjynQIB5.png', 'rock/cY3jY96VetFq6Ayp.png', 'rock/TgCDIOp6r8sKduvT.png', 'rock/M5FhZFlXsmRMTHkc.png', 'rock/QkABhOUYBbDXL7VF.png', 'rock/MMeqszriRcb0Ljc6.png', 'rock/boppgwG3Rz1zqCNK.png', 'rock/Mc1ESNeg86L6CLRe.png', 'rock/V3UaCwHUgn07OTX7.png', 'rock/TIm7htC6BXzkOitR.png', 'rock/UPZ5MJAl3AqoLrZV.png', 'rock/bC8Fki1Na2rRSlBG.png', 'rock/XFCJ1H5zoEXgE5CX.png', 'rock/fGaDsQT8mUTaytaT.png', 'rock/RsBNa42PCliwNPQS.png', 'rock/U3EwYhdeoTjy3xBf.png', 'rock/rgLz5OE0s6JRcfiu.png', 'rock/sCkuAnI0vDucXt7m.png', 'rock/gutk3kRhu9AfjYWQ.png', 'rock/vhpXMTOidZb7yqb8.png', 'rock/ikusbrqDgla4SEas.png', 'rock/lO2wvyJGrQBZvX9P.png', 'rock/qrKttJhRuVwzKsQM.png', 'rock/rMViRrOZTOK1XiEw.png', 'rock/rtyjzSfCZlfTPTox.png', 'rock/hMqKoUYAvB91YRuO.png', 'rock/oIoIl8ZLod1q9i1s.png', 'rock/xczZynV4iyBbLHvt.png', 'rock/o3gQiGh46MjCJtVK.png', 'rock/nLGBKJAhRNQqPFrT.png', 'rock/iTEpNyc8wQiAbm0I.png', 'rock/wjljU5HhXhirxPZ3.png', 'rock/rzLjaOMLU7vbZnPH.png', 'rock/i1GxDtZ5awTW7Rsf.png', 'rock/yrzokMUYHlOLsRhQ.png', 'rock/pYbu2Q82tjh9AGkt.png', 'rock/nY37eRslka1ss2bZ.png', 'rock/lcZcrpCoDl7Y1AUF.png', 'rock/qT0oCJChnoVWNqC1.png', 'rock/iEYJn6rg6FCcLqQv.png', 'rock/wnFnnnpg4cx8NeoO.png', 'rock/iKI9Mw3KvEOuuj9o.png', 'rock/zp7Okc8j1CJgB8ji.png', 'rock/qKPJSQplDj0grFPp.png', 'rock/vxMVVVspXFiLAJc4.png', 'rock/os5rNj49BIDCwHLD.png', 'rock/hyWWmz1OwgoE5JlU.png', 'rock/y0ZTIzS3rpKagERb.png', 'rock/mdHOkH88KHqpjkEM.png', 'rock/hfNIdhXfFcNcv37n.png', 'rock/sKD8rWd2xMuZQl49.png', 'rock/iDKbsfPFabN9bUKT.png', 'rock/p8g7qteM8iFK1Mdp.png', 'rock/how0vUOltuU1m495.png', 'rock/y7JyZqsFZUwdvkY2.png', 'rock/vgu9DXAirSqwFhWr.png', 'rock/nrRw9O00nT1ZeOJh.png', 'rock/hAcc7l7XQ9EtxxfR.png', 'rock/kW4W7E0A1Wpo45eL.png', 'rock/rzRKFMMFob6PQPxk.png', 'rock/lZcZsaDTx2vWJFun.png', 'rock/n3ryKsLTPcGhpW6S.png', 'rock/srlcv9vYJ9c9OUsC.png', 'rock/rZ3CYuMZgTELnLxc.png', 'rock/kcZfTQqKr8VaSjhk.png', 'rock/nrJIuJU8hyHoYzy5.png', 'rock/xy6EzMBW1U0aWDhr.png', 'rock/qCzy78clSmCmt5Uv.png', 'rock/wweMJiVO1CgNIGHW.png', 'rock/qJ0P3RNZJ1dL3lzS.png', 'rock/kdSoBBdU2T0eoWR2.png', 'rock/lJTADoCRRndhoR4k.png', 'rock/y57pFGvddZimmNu8.png', 'rock/kVwUUOjOc6VtZVMt.png', 'rock/oO3NO14nRLCUNjuZ.png', 'rock/wZikdISRLJlJwp9q.png', 'rock/qTswJhA6jQYT4y3b.png', 'rock/ktvHAgLHY7YAY1Af.png', 'rock/r0xQoW6iQbPig3jf.png', 'rock/jKWUHfF0b4BzWBEk.png', 'rock/iupz1I8ISgp6PDj7.png', 'rock/ncO6qnqxGiA1sJrP.png', 'rock/l0rOvSD1UwFg1Xv2.png', 'rock/wcL0C9QgqDYxaj3W.png', 'rock/qMWVb6BibNukvVrj.png', 'rock/put6WFBHh6qImxCG.png', 'rock/rULPfRAFnmSQtUhh.png', 'rock/sY2021zJacpvGLBT.png', 'rock/nx0qhNSB7YMLfe2E.png', 'rock/nQ7DM3VMBj0NdM0u.png', 'rock/yga4KN1EfpYG2u9w.png', 'rock/lfR51TrQjuKJXkT6.png', 'rock/u3nAxX6ZNsAKQ7WC.png', 'rock/i5FY2iOcMjYyop5u.png', 'rock/p68vc2nK8JZRDmBx.png', 'rock/oHI3A0mSiVVJTSo6.png', 'rock/qYTvWILCYIauIMkW.png', 'rock/yC1FoVJ7cUxIEfBc.png', 'rock/nGW6IQjCFT5tCw6j.png', 'rock/pU5fol2HJ1fxobLd.png', 'rock/yLeWjzIsAgQO8rT2.png', 'rock/nW7S3LYj4C49mX06.png', 'rock/tErKQ83tdngWfp23.png', 'rock/zZRojXITRo7bAIRT.png', 'rock/yF6HU2xSYYVTtH91.png', 'rock/nkwwKfU69znG7Bi3.png', 'rock/gtVEm7JEdr0wE1ip.png', 'rock/zM2n6u50gHzL1i6i.png', 'rock/vXU1VEpTIJDKa6kg.png', 'rock/jpuIILjefqjHtUtk.png', 'rock/qiysAN26ClLYOZfG.png', 'rock/yQIWMi6PpMKRMZaa.png', 'rock/oJgp2GfiHRHchjDv.png', 'rock/k24NaH1jhXog9y7y.png', 'rock/iVsm6EbRk1J1cEGN.png', 'rock/pmukoZQITHhWvDDb.png', 'rock/tZFZV6hmUogDBeMl.png', 'rock/yhdKczrnPdXbTjZc.png', 'rock/yAKYvpfUMYbJhbDP.png', 'rock/vL6UMd1OOIGuEdFu.png', 'rock/mJ0RjteYaLfYLE9P.png', 'rock/oqHaBv13VeSkB6Wy.png', 'rock/ktot0Gt2YvkPXl1X.png', 'rock/n61z73RnZB19Bpq8.png', 'rock/izGsLJJdOIpr54aV.png', 'rock/rHHsm5b1CvmcWT57.png', 'rock/qNLvry2jUcwSulgu.png', 'rock/lOCJEdb3BZAfi6Fg.png', 'rock/xH9uXlr7ev4rhwf2.png', 'rock/jqMSEFiMhpIWzJfe.png', 'rock/mN2Tm82UB8XH1eNs.png', 'rock/tGBAO9oyBYRD7XXS.png', 'rock/hNKauGm372Z48JWy.png', 'rock/oky5NsS9ymRXKVf8.png', 'rock/rLOijBMEYIaQOL2x.png', 'rock/nb1DEYJBoJTVwG4K.png', 'rock/iCLIvwweBESAwx4z.png', 'rock/zkNTynOVx99Kr46m.png', 'rock/rU6kbTLXKpV6ei8K.png', 'rock/s89nGNUsKL1q4vtJ.png', 'rock/hqD5rX5jXifrtMJO.png', 'rock/xMzUrLkx9vIWWwZU.png', 'rock/iIaYawwgu5W18LS9.png', 'rock/wI8gSJIe2tzwPSub.png', 'rock/poJARbX3gvvFDPXQ.png', 'rock/zdNuxse3BvJK3s6Q.png', 'rock/hTzQIKUtmllw7je8.png', 'rock/udR0gHeGBkkQVGlr.png', 'rock/k6r5z3dMsqo2H6hk.png', 'rock/yeinQlqGeaqSgvoN.png', 'rock/pI8SGhRU1bmqZAcM.png', 'rock/iILNKQp2qExtn6JV.png', 'rock/zrrYLvM2uywyFwRy.png', 'rock/m0xWKKlJMcCcQagG.png', 'rock/lw3m9jLBwagsVLJs.png', 'rock/xqCLaIfsVBFNf63M.png', 'rock/yt9k2pmBRzMEXoee.png', 'rock/kfz2fRvWcTqPzQxn.png', 'rock/l0XeoPGwezMDYujz.png', 'rock/p0v91qRDrCRa1qWZ.png', 'rock/qGG51BxEClmts5xA.png', 'rock/o2a42Or5QnATFbf7.png', 'rock/xn0aW7kbdkNaR2cj.png', 'rock/rGh56uZVxk2MZLWF.png', 'rock/rYuqHIlnoFtZQJGg.png', 'rock/jJVH6kP3VRPHbWvs.png', 'rock/mwbC6miMP5CXTp3a.png', 'rock/rit0UhP5HizIFoJA.png', 'rock/m7OF0PiEJCUJyf6K.png', 'rock/nsnqe5yD6JgUs9Bx.png', 'rock/l6tos9roQ0hnCmfj.png', 'rock/xPuMzxjXPJpLuCsl.png', 'rock/nxmKEzuM4rL8EcIe.png', 'rock/nNB5f3VARZAaHI4U.png', 'rock/iQ8Ef3yZ12whKccA.png', 'rock/yxZyXGFCtnDwavIo.png', 'rock/oYZ5GJcd60BPi0BI.png', 'rock/lpmH56YGWEHsmhBi.png', 'rock/qzCqZEUXcEqAuZAO.png', 'rock/xc9iqz3P8tF5YdCG.png', 'rock/nKBG8QSEBTwgkoVp.png', 'rock/so3Om75mBnUfBdTe.png', 'rock/j31qLVBZfstRnWsA.png', 'rock/i85n2S7UREOq5svM.png', 'rock/xDVakDa8abIKURzb.png', 'rock/koWcxNMbMRN8TxnP.png', 'rock/z2NDPC5oc02bXnnK.png', 'rock/xxUPxq2BY6NvCmP2.png', 'rock/sq8ppoxKFLEiWc1N.png', 'rock/qsa5Kd0lZctgmHvM.png', 'rock/lXb5SpRU737FgSN8.png', 'rock/whv9ZooPZNEjStCk.png', 'rock/tgpoZwVYq6VIfho8.png', 'rock/iaEybTdfnL0RoU9I.png', 'rock/nu556y52qDHFKRYy.png', 'rock/weNeUSDwclSyOtnW.png', 'rock/goDBJj8kMSQbpQZT.png', 'rock/lFRtpAScOeikVDZB.png', 'rock/s3NrOMdLJLZbpSdU.png', 'rock/hi4vWQhDFKyTs4iJ.png', 'rock/x4KH7n6QA6CV8In4.png', 'rock/wzcE5Sx0VwqjWQhs.png', 'rock/kS7mPmAkxkSxs1WR.png', 'rock/oGRxysPJ1UwCl0Oh.png', 'rock/oYofHCDonUnJKd0C.png', 'rock/uK8EXLN4mejf6aN0.png', 'rock/v7SoU8w2zc8vc7PI.png', 'rock/xBWG6t5EvReNN7mW.png', 'rock/k3AidZ3WX8t14gcJ.png', 'rock/hfvXIbr96w55MAIz.png', 'rock/qnvJFE0EKgfw4xr8.png', 'rock/x6RZUj3vDGq0u806.png', 'rock/muKpkJF3C3j0TmAN.png', 'rock/zihL322yBqQvYvhE.png', 'rock/rrf0pB5CgUgAmucg.png', 'rock/xhK87JYV3RYJYhA2.png', 'rock/z8U1YdLOa1FwflzO.png', 'rock/tMiH4tj8YffHNl0O.png', 'rock/rBGSBjzYhvdPSDV0.png', 'rock/mu2i6dWPZNLGnnPy.png', 'rock/yoses2FRtQruYUYE.png', 'rock/h89sRVkct1nAdPfo.png', 'rock/yJeAgusgncrC0SBZ.png', 'rock/lh18XOTNn8Tr3ijU.png', 'rock/sDLQgvDkWYW8qa8b.png', 'rock/r87DASz5okmR0fnI.png', 'rock/iYSPVRaZyIwKTrot.png', 'rock/pBRSGgUENwGb83VQ.png', 'rock/uCt8rigwmrP07ZVr.png', 'rock/nmxmRD1050oGpGEa.png', 'rock/hOgtdOKps4GHrC05.png', 'rock/lN7rUXL8DBzW1KoR.png', 'rock/y6SQqRL9aPExUa7f.png', 'rock/lb0hZJ95AjtXzoHf.png', 'rock/glL1mPYeHM552bV4.png', 'rock/iwM1SIgty28sLu2p.png', 'rock/nS9fHg3r4luGv0mF.png', 'rock/qUjyvBdP04lUmBkl.png', 'rock/smfqjL7LuLnrPqo1.png', 'rock/v9fNaoRtExGYVHgL.png', 'rock/iCR447ESdUXjdOFz.png', 'paper/0eqArS2GgsBeqgSn.png', 'paper/0Uomd0HvOB33m47I.png', 'paper/0cb6cVL8pkfi4wF6.png', 'paper/04l5I8TqdzF9WDMJ.png', 'paper/0RA9rcrv8iVvuDDU.png', 'paper/0t08v9bAaA0mXGCQ.png', 'paper/0a3UtNzl5Ll3sq8K.png', 'paper/0Og76sl5CJhbxWWx.png', 'paper/1oKnUgV2CdCaQUUX.png', 'paper/0vugygEjxQJPr9yz.png', 'paper/2F8Ng7620ANA7tEK.png', 'paper/2DQbLQfHlfrcATqi.png', 'paper/2UKnsncgPodQLOFR.png', 'paper/14K62H4KG1hg5qiJ.png', 'paper/1jHtb93pI8f6pfKo.png', 'paper/1uoW7QcH2qAgCTxv.png', 'paper/2PiUTczN5Ez4VreF.png', 'paper/1Tt9U9SzrOm98Xtw.png', 'paper/1fKclJk4eBWOQSR1.png', 'paper/2IOsxsG8AaxntdJM.png', 'paper/1yKjzquSvl9ShK7K.png', 'paper/0zKU6wEhT2cDe9j0.png', 'paper/2SldJqjiZwIVPef9.png', 'paper/1Dfw5FRlS4h60JPX.png', 'paper/27XFtQjjXQ8AP8Tl.png', 'paper/2PAcPusQ59xIMfiw.png', 'paper/2OCAZGNv2OEzgAwU.png', 'paper/1Frbe8cdOdkciOBg.png', 'paper/1yeoLbmp4alVOtFv.png', 'paper/6NzgMmSELzk3WtZh.png', 'paper/6wuALDd920vZ0qZE.png', 'paper/7I1fABs6SL1T4MNb.png', 'paper/37PRV3B9HxuUPkQr.png', 'paper/7NyxZyxSJ1gphzUE.png', 'paper/6q2PxM8Kk16UxoMY.png', 'paper/52nvTykEONIdmqQI.png', 'paper/7IYZ788SAadhvemj.png', 'paper/45OQyZuXtfNCc8Rk.png', 'paper/6ycslJxTsTjZc5H2.png', 'paper/4fCqIVTEuFLsQMaZ.png', 'paper/6OhEpnz0QxBCfbXE.png', 'paper/45ho1tx7W1LZB0DU.png', 'paper/74FZPuPPfVCwqHgO.png', 'paper/77rce5yVvVPIPmp8.png', 'paper/460WcktBwCAzsU0A.png', 'paper/4IwJ2iL6pFz5ARWA.png', 'paper/2tDgPZGqbrw95j39.png', 'paper/3tyVmhojjwETaf1u.png', 'paper/4484TuJc6AH7pDOG.png', 'paper/5NsmQol0TP7h80bh.png', 'paper/4aWP3XumkgwZtqZ7.png', 'paper/4bkmUMq0wOXElBIl.png', 'paper/3YvRoN0ZGuXVWEbh.png', 'paper/7L3Xke8iQBzywEPH.png', 'paper/50Wjlq1jW7o3wcl8.png', 'paper/4ZoU4nouZzb9G2MI.png', 'paper/755DbuyE4rf2oGPA.png', 'paper/3K6a8bG8j1YTH1l0.png', 'paper/5FVy5hSvZ9c0M2Y5.png', 'paper/4hcthlc3eCByBJFh.png', 'paper/5U8st2LCr9zLl5og.png', 'paper/3XEQ73XMn7zaww2T.png', 'paper/6BIKQpfZEfQkCvrz.png', 'paper/5Cy2fFOaWMFwa5iu.png', 'paper/3sKeYzYsjbWQVhc4.png', 'paper/5Iz9WPYz1C3PKWxj.png', 'paper/3JN7OPsnxDBpcVeD.png', 'paper/4Fxr7klOIfijCpio.png', 'paper/4dpYSXpjYbiH9MSq.png', 'paper/5kJec3v9txvrAb4g.png', 'paper/73UfZ8Dwj0OB66IV.png', 'paper/4Bimc2E5E9jTh1Fh.png', 'paper/389udM70tLrMVL5H.png', 'paper/5eRezaxzYX8Canq0.png', 'paper/54xah1BB0YTQS3Ib.png', 'paper/5jcXrtjEVtQwI0Wa.png', 'paper/4Pir885YNPXiRs0R.png', 'paper/3MMu7EXUtM6aEtXU.png', 'paper/68QZtdP6UaIcIE55.png', 'paper/3tNHP8R9YHru011u.png', 'paper/41HC0VBlHSRhi0AG.png', 'paper/5RvFm2PYoG18yIZO.png', 'paper/Cto0fRvS0ns9lVrs.png', 'paper/AfvIbTwxuG0q7Ij1.png', 'paper/9OyGmAsWD5Ie6QIa.png', 'paper/BVfw3Er2AUBqREYJ.png', 'paper/C9tAvywdtjDTnllg.png', 'paper/Cx9G4YyKPI9MPcqp.png', 'paper/8vCpdCGSnX8CopJJ.png', 'paper/BfFGJgByTJnxADwA.png', 'paper/9Dto1OCNf5wjYimE.png', 'paper/B9PzXQbhzehhxFRN.png', 'paper/9szmJOWlXxEbjDGV.png', 'paper/AMewmfMVCnLfbuNr.png', 'paper/8cUuoeM7qSsAGoOv.png', 'paper/CwFaCN3ykqwQ6KZV.png', 'paper/AqNY2b7NX9Ce3CjZ.png', 'paper/7v943QrV87m1Fx5U.png', 'paper/7PSJU8kbZf8S6FRW.png', 'paper/90GH8JQWUw9PUnlA.png', 'paper/9WQaDoiIDC4zGPr8.png', 'paper/7YbjJFHGHPhJQFvE.png', 'paper/ClP1hwm5k2IQsG1B.png', 'paper/B08mrGoODd5gGTvu.png', 'paper/C0WynzBAhXQGSywJ.png', 'paper/9GnoYJhsreNoV2Wn.png', 'paper/7Px9USAD7J56woB0.png', 'paper/8X1BUL9w2OMExPy5.png', 'paper/CbiqUiChqkXHb8jk.png', 'paper/A0Dgq561RAiluT9p.png', 'paper/CJ3BCSOVp8uzaPnY.png', 'paper/CHf3O6SDtuPbbD0s.png', 'paper/7fRLxoheLluOwCkp.png', 'paper/BbOoLEGslGMBu7sj.png', 'paper/AjwddXm0ttm7Ts5J.png', 'paper/9bQFlg61mt0akPoM.png', 'paper/BqGdYFfhQ4sOU5Xl.png', 'paper/9xyvz1JbPwNqtLgH.png', 'paper/B9WSmSgclFPB3TOL.png', 'paper/B3dlyiRDulDJWOsW.png', 'paper/8NNPWO3e2oNq8lg9.png', 'paper/AYfr1pZxmZyZaXWu.png', 'paper/ATs4aFUIODixPnMI.png', 'paper/7w91NsCtVzsPOSYB.png', 'paper/7ZGsbIMypDIEZxR0.png', 'paper/C5LDaiOquQm9mDVH.png', 'paper/8qhPJIViAhfZTJkA.png', 'paper/8q4xxTvBVnXTRSQy.png', 'paper/9v75qnx8zdeAAOq6.png', 'paper/Arbkrts1pXpDNgFV.png', 'paper/C7zCG474LseZgn8o.png', 'paper/BI9YnLkJ5wFZe6w8.png', 'paper/821xYeW8U0Iy6qVX.png', 'paper/AtfMvZ19yfJJZapD.png', 'paper/B6dJfDThlXx80Uk6.png', 'paper/BoXJ7o2SeSRRfuAH.png', 'paper/9qKKOliWXD7oDZOd.png', 'paper/9rwmakEj6Wg1YQWW.png', 'paper/9hKJu3ZMso4Qbtfh.png', 'paper/BH9zAUdmmjlfXwtS.png', 'paper/9zuFLFklb0ibEelE.png', 'paper/89dWYgfIZm624Pf6.png', 'paper/8I8hrFbPPNz6qWeV.png', 'paper/ACUZLBMxCu3AWgUu.png', 'paper/CIN4oPYURMvc4xTb.png', 'paper/84JL84r6Jcpp5Udi.png', 'paper/9giVcOVtFf85mQZd.png', 'paper/7Vor5Uo4DweXkpE7.png', 'paper/BoMfAmQYWtoiGHBV.png', 'paper/CrEzO2508GiIMFrx.png', 'paper/9zfyVkUcku0qc4Gu.png', 'paper/C3j6RdTEo4jf6Cr4.png', 'paper/9yGlnLxGtzq1gJti.png', 'paper/9RmM1chbNsDKXXlg.png', 'paper/Af7KstxKjdhzUQyk.png', 'paper/COmibsBioPBur0V9.png', 'paper/BLqL31aC5YLmx3uF.png', 'paper/CnRjJejRPD3QmYTl.png', 'paper/CpDMCILKUN2AUA1A.png', 'paper/BTG0fjXM09DyD4sh.png', 'paper/7UoLr02FuYuLrJxz.png', 'paper/FKhLHIIqEsYmoZxy.png', 'paper/CxcQ3XRBjkkmZ9b8.png', 'paper/Httje79JB2p6ePf0.png', 'paper/FxLuxwBp9Hw2th2O.png', 'paper/EuU83pQABhf4v0AF.png', 'paper/E4TyifCgPm6OwcrY.png', 'paper/Dvamqz9JlSMySW1i.png', 'paper/JApmimWQx0vFx1qw.png', 'paper/HvQdmFU7Qzd4SSQ4.png', 'paper/JRZTPL2YQ6cfIMh9.png', 'paper/JDZ86cNk15r0NTi6.png', 'paper/FEdPo8Z0t3bB1hHC.png', 'paper/Ea6A81oe4Ria2MW3.png', 'paper/IQsx834hZ2POqopO.png', 'paper/JZ8KCFK6y0Zd87Xl.png', 'paper/HQSUE6P23pvLctuy.png', 'paper/D9nbrQLDSgDMNh3G.png', 'paper/JFOcfFSm3Ul0Xkha.png', 'paper/FJoRrTDakCLyWs75.png', 'paper/IlrxPx0XNL2QslmW.png', 'paper/Ih5Z5Z3xFZ17IcZS.png', 'paper/Gc4hUsoFAQBdulGg.png', 'paper/H8cGdqeAOdIyIMO5.png', 'paper/JUn3VuVCoOKC5Nv2.png', 'paper/EJ42U85HcmJV7JVm.png', 'paper/FVEAFUE9uhfJPi2f.png', 'paper/E10FR2TKbBsv9Hgm.png', 'paper/DOuDihjhzIuZ2skd.png', 'paper/Ec6WrF6Soj4REPk7.png', 'paper/FcIIjteQItMuIuRa.png', 'paper/FqTkhXfEVeaGHReH.png', 'paper/JbnPCQTbu7AS9jvo.png', 'paper/EJ7cNnnea5yCEaOd.png', 'paper/HU7Q4utMI0vHMxlh.png', 'paper/GelC88IvDZoRejHp.png', 'paper/JOsGCJTsKvKGNHN1.png', 'paper/IXh9BTFQQ6AIaBpr.png', 'paper/DDHIkmyeaJPV7k0A.png', 'paper/JKN8VKp7pfMEQdBZ.png', 'paper/FltCm1ep2lcnsOYz.png', 'paper/HXxUlm3O2djcDgUR.png', 'paper/Gv71lr2m5b9rBwPy.png', 'paper/HTSIUeIA1IQrHtHu.png', 'paper/FmDdvclwy9Wc1zfc.png', 'paper/JQaNQ7LsPy3cY23Q.png', 'paper/Ht08RX3DQCSdl9Sy.png', 'paper/H8n0niVYdIGNGE0d.png', 'paper/DBriMZZSZtYea72l.png', 'paper/HYIh5ipF4bN1futQ.png', 'paper/FT9FiK5l1lohzfxI.png', 'paper/Di7hVJMSS3DzbSTi.png', 'paper/Je4YZuaXlY4KaAfQ.png', 'paper/EVtIRpfQ2ys2A3ag.png', 'paper/HarpXSxVfoAJ9cFe.png', 'paper/HyLg8tH9blwT6eVy.png', 'paper/D3mbFhVy7zFkZEtV.png', 'paper/FwR0aXsgOZ5KHDjH.png', 'paper/HIo7Eax3OPP5MuXl.png', 'paper/DE5gewqrqzSaVsdI.png', 'paper/ISW7mRK3Wu6ik0eH.png', 'paper/DsaaqkHZUN3pmcwH.png', 'paper/IxQ1CVKgnpiD0HfY.png', 'paper/HuunhhoTMXTrST2Z.png', 'paper/G4QepYlFnpE8Zse4.png', 'paper/IkSLcJtq4O6iBmE4.png', 'paper/IKy6sz5i68TYNJH6.png', 'paper/HbBcQItQ6d5yMDqL.png', 'paper/Eq9tohFHMpYXWQZH.png', 'paper/DGR6Jkl5GJY9Sez0.png', 'paper/HkBUo9kQDJho4uor.png', 'paper/HTETrKtTEB31pvsK.png', 'paper/LhgH8QOKfA5xu287.png', 'paper/K8WJMHr1iCttaMbB.png', 'paper/aw7H9dMuThRnO74k.png', 'paper/UqMn3TJPZRf0px46.png', 'paper/aICabYNb79bdS6Mu.png', 'paper/QUcJ1QclQwOY50vY.png', 'paper/RmJmYq6VCNrrvi2l.png', 'paper/SDQQfzHl47yNqA6K.png', 'paper/WUJ02oAbtzoPF4oo.png', 'paper/YkZMyyS9fJdKmL3F.png', 'paper/JlMP0YH6vhxWRMZz.png', 'paper/V7gDBwuUctk8myTw.png', 'paper/L2oIlMxDTToJYUvV.png', 'paper/W79peyAyfQqNP1vF.png', 'paper/VD4twqBeFDIHSovy.png', 'paper/ZFMh222FMJzr0yLD.png', 'paper/SboHPaPEPBqkkTUX.png', 'paper/W4QtOYoG8ThbcmsY.png', 'paper/XQihGnpPBb3DucOm.png', 'paper/PwkqvoT0noMITNaF.png', 'paper/aKUFn8PEF7LP8BaX.png', 'paper/UOW45qbyvti8nBHV.png', 'paper/KJ77yLPN943SrPZW.png', 'paper/Klcu8qBjVs676hic.png', 'paper/PaZSkEO4jbBp3Hz7.png', 'paper/VUx1G75w9CbeAJUx.png', 'paper/bTurr7qf07hoPQu1.png', 'paper/av2NxK494nd72Q13.png', 'paper/UE6Ao0ZqJbQ1R1R5.png', 'paper/M4h0o8DAzyOpmgSM.png', 'paper/ZULuRlvYzTJM8jC3.png', 'paper/RqdXcCyqmXMxSDxn.png', 'paper/Z5ioSnqxnoCUixRW.png', 'paper/MKnNPdRtHfgr6ZbI.png', 'paper/TYjJigXjEyiVntzx.png', 'paper/RFXW2X1DlH7xboth.png', 'paper/QVIiXr87PkeldzZM.png', 'paper/LEA78quc0fi2hq9W.png', 'paper/N4D5tleMLbP1Au5D.png', 'paper/OMq2VJyb0KwtdwDc.png', 'paper/TstngIvuLJt0GIze.png', 'paper/U2InMVDH10R24eOb.png', 'paper/SsvKZDW23vRQMUtA.png', 'paper/QCqvYDzuP0z3omox.png', 'paper/Uok6jb9ObZxSWCDu.png', 'paper/b15QGB4XPECDemV5.png', 'paper/atICt4otp6p6h31G.png', 'paper/VfIYGbOFu36N6MDw.png', 'paper/UHyVkisiFMmasl7b.png', 'paper/XJlnAmd0Rb4GNRxm.png', 'paper/V3Z0tEoM7Cq761eZ.png', 'paper/bPTh8OjfiaJfzdcw.png', 'paper/TmPdVzKg9yHUefja.png', 'paper/YaRk8v83K7BQmi5G.png', 'paper/UGHu0zv6pWOmgBWn.png', 'paper/QqPSoi6Vj2Vbua3V.png', 'paper/JsrOSaR3txTRu3I9.png', 'paper/ac0j8jCfz8hwpY0o.png', 'paper/OdfDTwgPVdW9XbE7.png', 'paper/KOlOsNsrUdQonYpp.png', 'paper/XOWPFbuwpaJaEv9o.png', 'paper/P1STllnKDD05zo29.png', 'paper/Xr1e0JehAkRxNzTj.png', 'paper/UN3iCDyiEIteIMdx.png', 'paper/LYirpnRmbCGN6T7O.png', 'paper/RmTijOM3U31zKnrY.png', 'paper/YnANqAVHDOylhBls.png', 'paper/Mv6oOH192gse3oZA.png', 'paper/MJAUydLSEPqZHwPz.png', 'paper/UVuauoFm9Pk5JJre.png', 'paper/bWjObTeNghy8Z1zE.png', 'paper/R7y8PxDKzaAd0uUQ.png', 'paper/MBCdeYSw1CGsIlHf.png', 'paper/OhkFvTOiBqphyG0I.png', 'paper/U5WsclDnMxnOTgGT.png', 'paper/Lq77eAG8OPaizwEd.png', 'paper/StyclBeCFwYGuttl.png', 'paper/NKNFgMn2Ik3Y9XuX.png', 'paper/OEFttKrmyc4bGb54.png', 'paper/OJpDyt2u6zzfoVP0.png', 'paper/aINwMVFw8UopgTOm.png', 'paper/OXA4uaaO7YUkxjSJ.png', 'paper/ZGQV7rFVePreAdOe.png', 'paper/aac4C8FFlVQw6aGM.png', 'paper/b8dw4ZOgMTx2h1xI.png', 'paper/WVfwcOw6nXcg4xER.png', 'paper/a0CaFEDoDB7qeyhN.png', 'paper/KAoLE5XBuwjmtKj2.png', 'paper/PDV8vSlSFdej3jNx.png', 'paper/UvFHqrnEwsrs6MgC.png', 'paper/Vly5xEFupx36kCcd.png', 'paper/ZveWRNmdKejc1c4w.png', 'paper/SPx9aUguwNqxqPVS.png', 'paper/QASICiZe79sFTXBz.png', 'paper/KAyKztBfGIWm4qN7.png', 'paper/Qx31hf6YWyFs6Mu7.png', 'paper/LkNkNVjTRm5Gr9NQ.png', 'paper/Z9vSGzBQ8YLOXQIX.png', 'paper/UCZlOkcylNYU2ylP.png', 'paper/XF9I4tnxCvI7XzIG.png', 'paper/aeVtGl2LQBr831P5.png', 'paper/KqCGmJ8WCrqE5Uvg.png', 'paper/Z4HE3jW7SMOonYFA.png', 'paper/YrEfjld9tYk0b9m9.png', 'paper/X3iDu3E3UCW1w1Cd.png', 'paper/NLwrHPTaiNSMjHLX.png', 'paper/LI47bUY9rR60z73q.png', 'paper/SoqluLecSTBcuyoS.png', 'paper/MLURv7NBoSPK4f1h.png', 'paper/af6U4DsLPicCZcED.png', 'paper/ObnNNP8S6dH3IxIS.png', 'paper/QKFJL22hutlivVGa.png', 'paper/RtFKKjIDZ0zA0khp.png', 'paper/NnWvTxntBJ5mFY73.png', 'paper/NwbFl4nQqE5pm5PZ.png', 'paper/Qbn4RJqessetWPHR.png', 'paper/QCHltvmva5vmGrPo.png', 'paper/O0fq1v7s6qxN8o9L.png', 'paper/bddldJIGmQP5CSLD.png', 'paper/a21pgCIQ9pl0Guv5.png', 'paper/RJrQJX31bej6flMr.png', 'paper/PTjpGk2rKf6mhx9z.png', 'paper/XCoWpNiWscJm476F.png', 'paper/Rxmuq5Y6dw22QESt.png', 'paper/axwcCc4rC8ySUtML.png', 'paper/ZjHU1M9wOwgrm7SX.png', 'paper/XNUalPNmCkHhYk1i.png', 'paper/ZGLUqWHjarBly23b.png', 'paper/WOMFIvaWB3TEY6Gl.png', 'paper/Su03KsBNHrCVUXli.png', 'paper/Om6b4BvZS49QNNFV.png', 'paper/QnjBVl6cFnyd2hVF.png', 'paper/OSEIPDjPzHw3gKjc.png', 'paper/TlnoQ46NyW8oZV07.png', 'paper/KPJ371erJ0RUKNAX.png', 'paper/Tgy8eMKf7vZc4Eib.png', 'paper/Nm8PHXHrGlZy0d6Q.png', 'paper/JsryGUQahbbNkrlP.png', 'paper/UWq276y40jnVYaPC.png', 'paper/XPvzu0bXUw8THjbU.png', 'paper/TnoLyTMw8xPdz0ck.png', 'paper/Lwd11NDu17odCiv7.png', 'paper/Q8idpb4gCSAWs9YH.png', 'paper/VstDOeRm7czrAOO9.png', 'paper/URj0hmH1Y9lNObL9.png', 'paper/V9v5VHsYgQOVnzo2.png', 'paper/N3RjXoHuCkTs2Prd.png', 'paper/a45DJKHJdnCFhX5X.png', 'paper/XnvU9UjrhVwfnSgj.png', 'paper/Y7DDimLAYeU323au.png', 'paper/UQIJiOYi6zCaIeue.png', 'paper/LrVULgPLsLsfdZ2z.png', 'paper/UmipL2kv9TdDdryZ.png', 'paper/QZtii0ogsjl6hxun.png', 'paper/X5YjuJk3mrupKDrG.png', 'paper/YTZfr87ETKYNkQRN.png', 'paper/SrSUeH255dybz2zi.png', 'paper/ZBA0HPVlxkCdle5v.png', 'paper/Qxx5l8WCNBjMb5xI.png', 'paper/LpASHQ03atiBeyRw.png', 'paper/PbqPTUSB4HxBVDZZ.png', 'paper/K6IACWoiTOnGR9Np.png', 'paper/RQ78Zpf7uYHXCYcb.png', 'paper/L2S17RtFi8XXp6b8.png', 'paper/ZtLFRBgHAyauXYW6.png', 'paper/Y0XtXW0pn979O6KK.png', 'paper/bxn0wMR4QebqVl62.png', 'paper/ZnuLAMdyI9xJCcKE.png', 'paper/UJXhVbWUgUnzedxP.png', 'paper/WejRez1oUWm5lhuw.png', 'paper/SjE9MULuPPnbplHT.png', 'paper/VFOCgVBUlL5Gp4Hh.png', 'paper/LqxEdPczGbYd9Zlu.png', 'paper/QWT9FOhLABPyKIUA.png', 'paper/TcybcTuKdMPA4xpT.png', 'paper/QQksMNb2czxqfTF8.png', 'paper/YEGCpdShhdOdneq4.png', 'paper/Ze6bn38U5XECyORF.png', 'paper/MmzlgKI366LYX3fe.png', 'paper/LAhqdrhPNg3ZLxpr.png', 'paper/O4H6QPX8bdwNiIie.png', 'paper/RlpqfQnTgM6AxUNs.png', 'paper/TzhAea8QXqJwqpUY.png', 'paper/QVFB67Eza3BCNeRY.png', 'paper/N5JmBjeptZ3hK3EK.png', 'paper/Wcg4nsnlWrhxgyJg.png', 'paper/R2Hq3bL46kah8D9n.png', 'paper/RW8BP64V5NC04QWf.png', 'paper/Zo0eTAGaUb4ewSkf.png', 'paper/UuF8mRQ3FDM6fOmp.png', 'paper/Zx5NMbS4YBf29guF.png', 'paper/MLrUGD1graoSw2c5.png', 'paper/Lui3J5YhKgMvk673.png', 'paper/aJeRqPY3UVBErDTY.png', 'paper/Lmx5I567tGyQ9HYi.png', 'paper/NS5CJKNsJa9jr5j4.png', 'paper/Y8kfG3f6KJa1YJPA.png', 'paper/a9SyLOjQZE4llCvX.png', 'paper/PZrfX01MvfB3oeyB.png', 'paper/P0BIztnCzZ3StLD1.png', 'paper/MnvVVMoqDmzrm5NJ.png', 'paper/VrhvQlf5Yz5mAt7Y.png', 'paper/MKe2ciaSOmdDH1JK.png', 'paper/KHfp6LJDEhqbcomR.png', 'paper/KSueOZE0QWbJClvK.png', 'paper/Mq8Ym2axOJVIthiP.png', 'paper/KGiyDw5Ryx3WjjSZ.png', 'paper/QLXEsveWG3vywKfy.png', 'paper/U3XlUGS4C4YGpjGP.png', 'paper/SjtYrw48VCBOLOQh.png', 'paper/UJdZdj6nyFRHVFEg.png', 'paper/aOiWbMZF8BhxwLTs.png', 'paper/Miw8prUoiVMVG2D4.png', 'paper/bQO2dBIReHsgMCBi.png', 'paper/PLvidx6rZDuRENbv.png', 'paper/pW8TQWh9SoWh0HLE.png', 'paper/qhhaVBNDIWDdNR2Y.png', 'paper/ubb6xwgONJP3xBbv.png', 'paper/cf9L4KKsfsFpRrYA.png', 'paper/pVCqrp8S6Ze3DAI8.png', 'paper/fwnVVskCSNkB9LUL.png', 'paper/xJAZ3PewpLYs4ogR.png', 'paper/hWVwQVI74lc5zgyK.png', 'paper/mWtDBJ2pprz96x22.png', 'paper/qs7Zi0icFErU0fsZ.png', 'paper/qtfGt3JjA0Orrg9v.png', 'paper/i47BmmqwUa4y0jIP.png', 'paper/nSfRj8Sp6S0GsMVm.png', 'paper/o0CfvFooVIcHCGzO.png', 'paper/yB11HwUEuYHhVlKo.png', 'paper/d5FmD95HmhodiITj.png', 'paper/jl6AlteXSalbS3rG.png', 'paper/kdPdOkLZZW1UnOPw.png', 'paper/pfyaiU10n2EvAwgw.png', 'paper/em91htnBohvtnG2e.png', 'paper/n8IzyztMwnfa5rjf.png', 'paper/nmkNauqVsM2JUvok.png', 'paper/eaOtD5yLQHTuFTz3.png', 'paper/fPwDPzGZ5JeY0rb9.png', 'paper/yYba9sH9TlYCAtoo.png', 'paper/prCirglnpqZ4KRmM.png', 'paper/x8fNY0V8O2CJ9vaY.png', 'paper/eBU0DmyWZu3WLjSO.png', 'paper/cXZYoC2Bu8SeHasE.png', 'paper/v6wOWeRyh3Sv5BXo.png', 'paper/v6Ypsa9vPurMnl20.png', 'paper/wKiW95hiPu8zQhwV.png', 'paper/n10pI9JDPyeM0P73.png', 'paper/u5672IrPHHkppdEK.png', 'paper/pwM1GeKjG7KE4i75.png', 'paper/pt2EHjG6vxV6Hjmf.png', 'paper/eCZWzeGkpX6rdizo.png', 'paper/nb6CUTNhXBAmjFp9.png', 'paper/ojF0xyUvkvV3iujz.png', 'paper/oBKuveyTYAhqtKSw.png', 'paper/xnLyw2TBZF8e2vcr.png', 'paper/qVqPFRhMJXPFh8Yb.png', 'paper/iGiF1suI8wXP6A2r.png', 'paper/eiiwN1DsKoIheMgz.png', 'paper/pPId4ocKjlcEVsXt.png', 'paper/jZe5ePOjxcQEJitP.png', 'paper/hCPYo6pBGExadl5o.png', 'paper/fYuJzeeHPzGwlGh0.png', 'paper/ntumvg6vWpT6qIal.png', 'paper/w3fJMYnDDxw5q00K.png', 'paper/keyl4nDZLxLORnr3.png', 'paper/orYuZ7NeWdENNt7D.png', 'paper/cUFSYeNYdnhRB6MD.png', 'paper/mK7Kqflg12vHFBEK.png', 'paper/qjNwQMtSzoZKXOGe.png', 'paper/tsfjaR5pzLN4vfRW.png', 'paper/wBUGgxpeb0gggcTx.png', 'paper/jCTsslbOLn04znvK.png', 'paper/ySmdq2LJmCBQatvr.png', 'paper/raSxG3GjqMrYHvgW.png', 'paper/veIFAtZUg4WYjn3N.png', 'paper/qZX4Zcms0Ffpe8v7.png', 'paper/xR8mRBEdYAbokAEk.png', 'paper/kz9TBAHLFXGnHCiF.png', 'paper/eASnEW16rlMUPMf3.png', 'paper/mugG8B1m5Ra2aRgZ.png', 'paper/gFqfkMtX39sTkrSB.png', 'paper/e50cckZL8BKmqzjd.png', 'paper/pMQfFsmXAu2xZuUv.png', 'paper/yM5JZ5J4uLeYIGOO.png', 'paper/g028Qv0lVlEbKi1q.png', 'paper/wQQCLOgW5qXxkwli.png', 'paper/jYSFgcG68qqavVn6.png', 'paper/fCX7MPg0xO4QP2Mk.png', 'paper/mkUctpckc3vjOwKa.png', 'paper/gpipGA62xfMjfr8O.png', 'paper/oKx22gb6XjI0aXHR.png', 'paper/lZkRVz5sifz7CD66.png', 'paper/uoYuyEHvVLrOOmqW.png', 'paper/dF7Gvm0vgCJZofAW.png', 'paper/qsRQNgddFhV2Mlnn.png', 'paper/tiS1ECooPwR5IvFK.png', 'paper/j8dvLhkeL92SpOGj.png', 'paper/ePEd8TOzTgrGz5M2.png', 'paper/vHbB53ZFtZoNcvAM.png', 'paper/wfpI2zfWOeQbwd1f.png', 'paper/xhKyuxHPC3RnoLD0.png', 'paper/qGf97ZWPmGYzlTpo.png', 'paper/p2UN3r1vWk57uVqX.png', 'paper/dUDR2ViadkqS6EHf.png', 'paper/fjITlTb11LELvo3e.png', 'paper/m4BUXxtLrhnsSUJ2.png', 'paper/gO7yxcP6H1vZ7lOe.png', 'paper/qQim08vMQ6OUCtbR.png', 'paper/cI2tl5vM2koXZPfG.png', 'paper/cuDzhxpWujBPgJmX.png', 'paper/et9oIiGQmAgwy7GK.png', 'paper/f423uSEl5slK7nbj.png', 'paper/eLBTZkvB4E951ml0.png', 'paper/eW9ezZkV7Jxu1BEk.png', 'paper/xJNBzdx479xjphEV.png', 'paper/khFWD3MPEKPitVyA.png', 'paper/e6blzPfvGcrcHaKl.png', 'paper/oJi50DvlvFg4wTio.png', 'paper/yUhvKMWrPQ9sJ78m.png', 'paper/lxWEYgTaWJSoYSiD.png', 'paper/yB4dN62hOf4QeWGy.png', 'paper/oWI7JL85eXDhRFcV.png', 'paper/eBjRjXUIy7fpUaRy.png', 'paper/oiJhtTsTDkiAcHeR.png', 'paper/oi2e7ny5y00NBLOx.png', 'paper/yYiQN5jZvkGqr6C5.png', 'paper/qRNjm8INtwezm9Yd.png', 'paper/gR2aEiEX8CzCtyBN.png', 'paper/svY0FVnjij1nSJDK.png', 'paper/gVd3f9CZNll3QS8l.png', 'paper/byBLmTC0iWfnT7wo.png', 'paper/q35FqG8h9VCDbQ1J.png', 'paper/dmT5g2m3meABNfCJ.png', 'paper/ukOGooYiFOfJHNrx.png', 'paper/hH7jcOkAiHqNDWcy.png', 'paper/f1aYiLdB5VC3L8Kk.png', 'paper/nOTm1e00MAJxvpwp.png', 'paper/k5n1w4gdm1G27rDk.png', 'paper/ejC8QIku5jrtci48.png', 'paper/xioDLxSWnSZ5sDbQ.png', 'paper/tHitLUmmXOyChXOH.png', 'paper/sAEYBhcNfJgAZTD6.png', 'paper/nPEUpKKphLYH3Bjy.png', 'paper/e96cq72UJTICTkE0.png', 'paper/rrSpAVrlixKrTC1T.png', 'paper/tlZ31lJJt1OhSr0a.png', 'paper/xyFhBLzUNatOchjM.png', 'paper/rSRKkten7Ffx6bEj.png', 'paper/yWLbGUHRsGx5ocE9.png', 'paper/qC5sV6TzOBzyzW0p.png', 'paper/nnf5jELXQuneoejn.png', 'paper/p2Y8kJZKuaHvM4dk.png', 'paper/jqQlxUsZOssnmdWL.png', 'paper/vPvoQzBR7Paf5Jml.png', 'paper/nvCwoV9k3ym5N0JA.png', 'paper/dZh2VMRu9nRGHhYL.png', 'paper/tfMCcOsRUhEJZF6I.png', 'paper/ul2wGK0NgJXs8mHv.png', 'paper/fMkDqtJgZAKa7dl5.png', 'paper/mV9vc1ITH1PrrbF8.png', 'paper/dIg7Ds4xEzk0pyWZ.png', 'paper/eLNpUj2AZ1h4Mrxu.png', 'paper/tFuz8mF78pYT6hKS.png', 'paper/cfCjmEcXysh0H52D.png', 'paper/sak9CBkECbg1PSLz.png', 'paper/wYsHIJDvNLDvn4m7.png', 'paper/vFCd43peE8nozYko.png', 'paper/vfKiFjWIK9JKHxLn.png', 'paper/nsbCG572TtIVkjKn.png', 'paper/tW1oIjn0hlGLToAY.png', 'paper/pRZml1c5DSIzYVxA.png', 'paper/owYHB2dx7ExdKxsR.png', 'paper/r9sXHEyVJVCtshSA.png', 'paper/eQaNnPaHwKsOJaYq.png', 'paper/ldGrLw1rlUq1nHuw.png', 'paper/y9DoLrI4Hlh2EUts.png', 'paper/hUDN2qXDxjoGBWqu.png', 'paper/rX4dcSySbz56p4dk.png', 'paper/t2SdNfWDiXGLJPBA.png', 'paper/oTQjuZyEM7y9MlNJ.png', 'paper/wdUfwC8IoQbVtqzR.png', 'paper/ehzdlf5B1HtVgpRs.png', 'paper/pUCjvjdpH5HSaWxl.png', 'paper/cQ0dBO3yHPohZ9U9.png', 'paper/hxUxn67g42jOHGHi.png', 'paper/ueuECCtQxOjHF1ij.png', 'paper/qM0f6IJPDfLRpo1d.png', 'paper/sisDkUJdIN7AkgTV.png', 'paper/xha8stYdUnt02zKI.png', 'paper/wBuXrsjeqMn4ZXdn.png', 'paper/ldG6HLXeY0KilKyr.png', 'paper/y2auZRkrUIi0wvd2.png', 'paper/cMbbpVIgFU95R4tO.png', 'paper/s4dtRIGK3emNyjrO.png', 'paper/lhr6oNI2jMsi0Z6A.png', 'paper/rDfjA9TE0tYqzT21.png', 'paper/vvM7nA8hZJD5b9CL.png', 'paper/crYtjQcVKQjCAWYq.png', 'paper/pHx4pvFv4zXPDI1w.png', 'paper/t3gTGwl94iLuZL1k.png', 'paper/kVKp9kJji4urjoMs.png', 'paper/dZxpgHYRuQNv7T7A.png', 'paper/c4FpTJmUl8wtm4n3.png', 'paper/coKLsdqkvkYUv247.png', 'paper/xsM5n0KOqwb5R58V.png', 'paper/nGxiCAryWhadfu7W.png', 'paper/vUtM1pR6f5ZdEn5a.png', 'paper/dDtRH0QF7IPSsasH.png', 'paper/tUAXecVWvaYBm4s4.png', 'paper/oqJ2wJHOLMGGxdjF.png', 'paper/n9SDT7R9BSLRNCe1.png', 'paper/dPSQ4TKPBJyjv6cH.png', 'paper/to1CYeerlgzyJIeO.png', 'paper/s73bLQf6K0lw4RDJ.png', 'paper/oLcpS2BYyqZLBj9P.png', 'paper/sDAWCwVlT2NFpEAf.png', 'paper/kmBByXdkwf5Vro8P.png', 'paper/fiX6rjBt5qHGMsjc.png', 'paper/h4yYJuwG5dUXEY1B.png', 'paper/l7pEq6tQKyUNL3GN.png', 'paper/qWHWCHG7exZiCfdq.png', 'paper/x3z3E6Z2qsmW8TaH.png', 'paper/uHBQbKd9VTYWdctJ.png', 'paper/p81Lb4bD6fEvkSQ0.png', 'paper/rffdDFsMVDDkn32c.png', 'paper/dyHfn1GBYIj195b5.png', 'paper/v1b7FBFD4ZbLJnhB.png', 'paper/neo7ALjpzKdzVCj1.png', 'paper/cOHWfHkyo8sqWnpW.png', 'paper/yPnREvUeAGYRKi7V.png', 'paper/hfYfNNtqkFzF9BE4.png', 'paper/nXOxF15xZFtfflkL.png', 'paper/hu3OxByp0O4KCJft.png', 'paper/lb8kepfzcnutbQI1.png', 'paper/fnbn7osMCGWmqHKZ.png', 'paper/knWd03lNhoAUPdKX.png', 'paper/k9d5xaurp8JC9DXp.png', 'paper/fSWSXO9fumLluiAF.png', 'paper/n5NXfZTRonR4iOr0.png', 'paper/v4pz2TAsHhtNtTAH.png', 'paper/n1H2YStjFsCwmlYz.png', 'paper/tV2VtZHsIL8Gj4TC.png', 'paper/lGIPlKIVgwrDC17U.png', 'paper/jaxChUvakWAN9eTs.png', 'paper/oAvUHooYsSpFid0p.png', 'paper/mZW0RUegJl9SM8ck.png', 'paper/djVVgBL6PqTdtr6l.png', 'paper/qbWKhamyFLSmXCgZ.png', 'paper/ocaU2HmemX7rmjm0.png', 'paper/jAh36hlZLpECSBHp.png', 'paper/hHY3BbYoVFjLEsbd.png', 'paper/eCpHvcUt4r7A9xJE.png', 'paper/lj8o8xy1TAOMQDaH.png', 'paper/qtYZl1WPMxaH5KQV.png', 'paper/ib30bLCbBl0mKWko.png', 'paper/pYvpGm431tLNheln.png', 'paper/lqo55attrFxuKqlu.png', 'paper/r98ovEGxFpCnVnyy.png', 'paper/sZyZICXHv0ArIZFw.png', 'paper/dftjUImANb0Q9pMA.png', 'paper/wytuIz48uLeDoGqz.png', 'paper/cw7oAjQLSjDYZPXH.png', 'paper/ngFDxBhhLQzs7JAH.png', 'paper/jXhwHToky4rsswCO.png', 'paper/mUqkjFi6NBsHR7tf.png', 'paper/zXY93m62vUNIH4a0.png', 'paper/yhXsHSeStA2dharc.png', 'paper/zz1yffW197uYO6DI.png', 'paper/ywXiLajxMzhy7BST.png', 'paper/yfoLtt4c7Rzc5VOW.png', 'paper/yaRRMcZS7JJ3xLK1.png', 'paper/zQvuYPyUR7gXdqXE.png', 'paper/zru6yFR3dqc3SymW.png', 'paper/zVMOQFwVINs3dj8o.png', 'paper/zBMp6VflTDyfCqa6.png', 'paper/zb6wXq49QppiS9sf.png', 'paper/zrZmvRbPtB57a4Vr.png', 'paper/znZ3UHvUM8ySVpDR.png', 'paper/zGty6p4zGTzRip73.png', 'scissors/FAgOt7E8exiEn1fa.png', 'scissors/DH7iguASbWIzzBnT.png', 'scissors/9ZqjWey4XHP94iRr.png', 'scissors/8isFA2VQqLOxzuvC.png', 'scissors/Eodp43S6sgfxeCST.png', 'scissors/9VLUR3WfMvIdEMrO.png', 'scissors/2DEYFsJ27UgVqv3W.png', 'scissors/7M6QmAbgSaXFX9ES.png', 'scissors/0657zSfiTYzP2jrl.png', 'scissors/6z9hCJxzN11rIsJH.png', 'scissors/AgfZ2awwDPr3d50b.png', 'scissors/Bd18RfxcJr6O5n6j.png', 'scissors/6TMYdUMhaEWHQOcc.png', 'scissors/67sMDIYRNxuVsQQ8.png', 'scissors/GfBCXN6UyOkkwshw.png', 'scissors/2fxAdPTgrVIoITsL.png', 'scissors/CiZDoU3BINzzruL8.png', 'scissors/4hvoLYY28SGuZCEI.png', 'scissors/65PVbRzrpzfdu8nJ.png', 'scissors/5EUrUn1fjmi3TKE3.png', 'scissors/CPRUyuzmPTO8JrEp.png', 'scissors/4E0THAnIciVeLK79.png', 'scissors/B9HRznSZlfXYAUwK.png', 'scissors/E5WazBRd4ax2tHs4.png', 'scissors/5CzwWCDnxKOJz5T0.png', 'scissors/FeKk3jfdVyzHV7l5.png', 'scissors/2EeIeEe1P0a0Fi9v.png', 'scissors/3dI7E5pwR07mvKvF.png', 'scissors/CjjM6i1OEFaKcm6e.png', 'scissors/95NcnE0omOzXLqs3.png', 'scissors/7vtC68OSHd1FZJvN.png', 'scissors/2M8LvUBGMOH1bsaz.png', 'scissors/CTbANISUvZMD2T4L.png', 'scissors/2TAGoXw7yaK0bXBu.png', 'scissors/GErhi3nROcOcubPG.png', 'scissors/AOao5nWv96N9SV7O.png', 'scissors/FoYWUBXBw6qO7y0f.png', 'scissors/46fOqpoVsNjc9m9m.png', 'scissors/1WX9KKoq0nkWiTxI.png', 'scissors/277q9TUTAsBAbTCj.png', 'scissors/EBh8bZgOANio5kQw.png', 'scissors/2ZPcSpOm7SEfQYwg.png', 'scissors/Dcb4pD70p3oKdeIW.png', 'scissors/Ea5uaRMj6JwEAEtn.png', 'scissors/EKecGY0Gk9GJjT5n.png', 'scissors/9C2CyZRK18hcyHSx.png', 'scissors/3Q6h5cXYeNTeOLgD.png', 'scissors/G6trRFSUGIeaQorS.png', 'scissors/8pCggsYVt6kUOza4.png', 'scissors/0Flw60Z2MAWWKn6S.png', 'scissors/6ZoT4ZO8D4G74afj.png', 'scissors/2vDaPrc35RGC8nvM.png', 'scissors/AIdBo3sdoduT52KJ.png', 'scissors/DgzqzxG2Zr26s93Y.png', 'scissors/GlmYygm1ezDtcUks.png', 'scissors/AqQ5Xll9nVqJODji.png', 'scissors/0ePX1wuCc3et7leL.png', 'scissors/EesxTpYzhZoMVlH8.png', 'scissors/FayATL4XRpv7AB0y.png', 'scissors/7SOrAw5PvJghnwuq.png', 'scissors/8aOKoHx8aFjtDkxJ.png', 'scissors/BmVM7T7MvIkewekj.png', 'scissors/5p5Qjz4unC0KcWoL.png', 'scissors/FEpMZLoRy5eAgRvh.png', 'scissors/1vQCX4af6hQmuwxZ.png', 'scissors/AoGoNngxM4z3CboT.png', 'scissors/2E8j595xseKRF60J.png', 'scissors/EiSbUEkcpA3vRMGd.png', 'scissors/Ep0yJCcioRpgZquy.png', 'scissors/1Io5Ksm3bqy87EAU.png', 'scissors/4Zh2kADxqxEsPTrX.png', 'scissors/Em50Yggfyz815VUH.png', 'scissors/Eolm0Lo5dzVwDYqB.png', 'scissors/64ktckSF0c26K6AY.png', 'scissors/DlzjcfKNEmUSyBy7.png', 'scissors/GPY2PK0wpb7ZoSVS.png', 'scissors/G3WzvjZXkizn9iK9.png', 'scissors/55yz6JI9f5DTbq9D.png', 'scissors/9tyrAAweW8qCI4st.png', 'scissors/FfCLY0qhfyOoyam8.png', 'scissors/1xkTkvyzmavV7lQ5.png', 'scissors/2l1K148aIJHRR1q7.png', 'scissors/533ZH0WCaiOZO0nL.png', 'scissors/CLCnzerdshjQe3HQ.png', 'scissors/5mipmm4t8RM5o0tW.png', 'scissors/4y86vmtzJs0qzfLf.png', 'scissors/3sHqqD2BAKmQp4dk.png', 'scissors/GIFgGPzv7MykUgzM.png', 'scissors/1CXgK9fgGdSRggD9.png', 'scissors/FmGfsSfUAyHzsiAO.png', 'scissors/2gd0aqAxW55bHZP9.png', 'scissors/AORIZvib6x3RaA82.png', 'scissors/F4iIoT06hTWSuSs2.png', 'scissors/FFGftZrGnvN8rRqN.png', 'scissors/0CSaM2vL2cWX6Cay.png', 'scissors/3n4i3lKB3nZOpDVv.png', 'scissors/6CyIuv1pvHDwTWmR.png', 'scissors/44Hu6owS3pPqmyG1.png', 'scissors/EWWFVEzkNulhftg2.png', 'scissors/9YPMzKwEOWcIx1oN.png', 'scissors/FyZeQAif9VpbknFi.png', 'scissors/256MrhkDete6aQhP.png', 'scissors/4z7r8yUDFk3HwEgN.png', 'scissors/Dl9fg6ttVQY9U28G.png', 'scissors/AMl8nHQ9Ys6Tpvl3.png', 'scissors/1i1dlQrE6JnhYXE4.png', 'scissors/1jKhi65BPTLXnUI6.png', 'scissors/GVxDgpt5p4FA2e6n.png', 'scissors/ErsQcWAahNPYPZs5.png', 'scissors/7Zb3QM9tznboKuQE.png', 'scissors/3hIcgfPOoWEIs16j.png', 'scissors/GgA8wrylOr4pvJhZ.png', 'scissors/G5iYVibCVfZW27jB.png', 'scissors/GGQjHIWNHMjBHBsr.png', 'scissors/7jLYhf025vHEX7kp.png', 'scissors/9r4WuhdqPmffGmPA.png', 'scissors/1MMkSW3f1CAsw03q.png', 'scissors/Egi7OpuV8V24C2LP.png', 'scissors/2J7q0JbqJrjmZC05.png', 'scissors/1L1n6plr7jlZGirw.png', 'scissors/FP1L4Ax4XDmqP2QB.png', 'scissors/GacGc5Z89bSZ5IXG.png', 'scissors/8VaAxK3h5GeQAqRn.png', 'scissors/DcbHRGWKeOdFBzEs.png', 'scissors/DpuTr8KvePPqWO5Q.png', 'scissors/3bkC6JAPog7xX9WO.png', 'scissors/1wZUIsowmZRmESjh.png', 'scissors/138Tx9KlEfheT3uB.png', 'scissors/7zCqi454ijCrPu6H.png', 'scissors/1VRzspyXpQ6A2rKy.png', 'scissors/0Ug54ifXRqqlZS2Z.png', 'scissors/8AR7dUmrz9jcFrHu.png', 'scissors/2C9FEbBklwcVhF3W.png', 'scissors/1yDUM1w2HTbuPIfO.png', 'scissors/2V5E7uHmAh9eK0qt.png', 'scissors/FSJKz70kgKxJyjjl.png', 'scissors/7dBQ0fOpCs03OmnR.png', 'scissors/8Q1PAZsxpLf5FAo6.png', 'scissors/AqKsjUyFEqJcD0HC.png', 'scissors/9n5YXSqxWa9wgPIW.png', 'scissors/H7drJKmXJb6g6YxC.png', 'scissors/2tRxoWcFfrvjsHTZ.png', 'scissors/8rqHdq10eHPzVV4N.png', 'scissors/6ZAZiGMRp4VD1hDD.png', 'scissors/7c2VZ3UGtDTLecjo.png', 'scissors/1lEpWTJDphkm3HdC.png', 'scissors/8dKMDDHzX9WeRAaN.png', 'scissors/FqutRcI9gGbZl8Gv.png', 'scissors/BpCDUnGgYRS4T8IG.png', 'scissors/FHS2JqvlXGibavFw.png', 'scissors/EkArrGlCdj8NNPbu.png', 'scissors/5VvYOvnkxKc8PIog.png', 'scissors/5inLBb6qZY0gpX3b.png', 'scissors/A0t6YRrNR7SEI6DZ.png', 'scissors/EwkiPoJwnH40BjKa.png', 'scissors/F0440RDr6eKJusnY.png', 'scissors/FCsZ8xbkykokN7sp.png', 'scissors/7gnNbHRprrV3r7kX.png', 'scissors/BJwCAwQV0EWaUT1X.png', 'scissors/BwX4LCp8V8FlquK1.png', 'scissors/6i1Xy1NAW6h8RzL7.png', 'scissors/7A1YTmfZsbSdxPKy.png', 'scissors/8K3rwVoAAjAqkkqq.png', 'scissors/9wjorYJt2c8t6y5Q.png', 'scissors/6weMqPPWdXLD7lNy.png', 'scissors/7LFhnAZBWmtcMqDM.png', 'scissors/4X8TOCQTfCWnMfm2.png', 'scissors/CmzQ1oRM0ei850Wl.png', 'scissors/FzdAQgBSi3eRbR4z.png', 'scissors/5DdrFpDc8YbG1oCo.png', 'scissors/CemUmBPmUpNgXfMC.png', 'scissors/7Y69sHtbGL2KHj8O.png', 'scissors/FZTB5QPwvq7b9xok.png', 'scissors/2ufDQYIqKG1xRG7y.png', 'scissors/5QHP8zydBsbWyt4T.png', 'scissors/At8YmfH681yAI9O6.png', 'scissors/56VICUKU6RgoLTHW.png', 'scissors/DJQMlkIuVBNMoXMX.png', 'scissors/Gr3EpS7AO3KtWTz0.png', 'scissors/3UH9T0W1eZQW36xF.png', 'scissors/BdMHRwUTJ4FI4uPr.png', 'scissors/9A40U8awLxJ2lf1E.png', 'scissors/Ct3DVjkYKTia5Xq9.png', 'scissors/17HZDUFSVPxcar99.png', 'scissors/6drquJLYR4bjZX2E.png', 'scissors/63khvkT3L0GCdMHh.png', 'scissors/0zoQAmDFXehOZsAp.png', 'scissors/CO4Xhg1dx5dmvwlo.png', 'scissors/1UojLz4CrT2G1Eo5.png', 'scissors/FSQhfK1gcYqm4O4W.png', 'scissors/3kVoftgTNdDcvPPY.png', 'scissors/ASH8lCQK8VGgkfyG.png', 'scissors/BtUfOjTzw9EEvNHO.png', 'scissors/6gt1kvpjTKJIA7S0.png', 'scissors/8ei3rSl89D6W8Tav.png', 'scissors/Ckqc5ia9xteRont9.png', 'scissors/Cw34q0DptQFOEeoF.png', 'scissors/DXQaN15KphkE4i7z.png', 'scissors/8Gew5erdZ7A4K3gI.png', 'scissors/4burI8a7jyfTRBl6.png', 'scissors/GktptVfvaYXOIJCz.png', 'scissors/Vn28McGu6NtjoMsb.png', 'scissors/bI7SDSU3g7fZsxRM.png', 'scissors/Rc1pRmm4p20kAl7A.png', 'scissors/Sna2TBf27xfLdZgk.png', 'scissors/Wp5WNP9Enlm4zjhx.png', 'scissors/JKlTmX8oKzganNsN.png', 'scissors/ZzIlyDP6opy9ifkB.png', 'scissors/ZPjzBZeu7RFCMj7A.png', 'scissors/JDuoo6aDjbIAqA4X.png', 'scissors/Nbdg8g0X7rioOzQT.png', 'scissors/Z3isJg9IBOn3ZHFZ.png', 'scissors/RhwmhtMcSeQ0DeIJ.png', 'scissors/SJCguzLeVcfuZ2OA.png', 'scissors/P2mN2BN7A8eaYm1l.png', 'scissors/JGKvhDVwPPH5n7Kp.png', 'scissors/VaVPcDb7mPMQ1gHk.png', 'scissors/IEE3kJIfbClsf54v.png', 'scissors/XwaRRl8CwYMJKx95.png', 'scissors/JSDICtLrQIEXhPy5.png', 'scissors/I17M0iKd7oKgMtDw.png', 'scissors/RbjC5b9sd5JtTlOf.png', 'scissors/WCJ45vWIRykFDXkA.png', 'scissors/PKilVWkKw9dYVTMx.png', 'scissors/XyUSCoWQqR72pGt8.png', 'scissors/aMAVOdimraDSK6P1.png', 'scissors/VRUsuwjXjZtW1Kaj.png', 'scissors/Mwmjta6k9iqQKKd7.png', 'scissors/XN42vZFFWvOwwrEb.png', 'scissors/O17SUMTLj1goVg1L.png', 'scissors/QGySPOxev60wlq1M.png', 'scissors/JgqT9u28RqoBgJdy.png', 'scissors/REzgm4ptrguK4bgX.png', 'scissors/Me6SACZZ4EYJLHbB.png', 'scissors/YI6MrQ5Fa7DXhcjr.png', 'scissors/UAaPcdGxSdKJngGc.png', 'scissors/HYMbsGR9sq7jfwQp.png', 'scissors/cHA3IuTLuXm10QNQ.png', 'scissors/UW6gS11P3sXF3SBU.png', 'scissors/ZKG6hW0U101PcEoo.png', 'scissors/Nu7zmg5BP4aU3e3Y.png', 'scissors/JTbM7M5ZIxA7oFEX.png', 'scissors/YaAtOlkyK9hnzZ11.png', 'scissors/KCh0XBlgDa526pBe.png', 'scissors/VrHis8ru9xXA5Lqh.png', 'scissors/HAjiwatcnWjWeEeT.png', 'scissors/OLq5gEcrMDGftxeG.png', 'scissors/TUB0nmtfE8SZjEzL.png', 'scissors/MdKQlVomcJJ6Z1GA.png', 'scissors/LNyVq7Qg9M0S6RMZ.png', 'scissors/XEmNGqnMFMoeRQRi.png', 'scissors/NCHfmPjxa7aay5AX.png', 'scissors/N40rvDyvPIoApxTW.png', 'scissors/N6hnu1jJLEfigfYH.png', 'scissors/TYXCfgUSBF8L7HZK.png', 'scissors/YLqWJoGJOcnoAZim.png', 'scissors/SxVHDxJ1kFS3Il20.png', 'scissors/a6nlEYiU2vnnUcp3.png', 'scissors/KYTLHLPHUqj58UVh.png', 'scissors/JZXTU0Cv6A2WPuf5.png', 'scissors/PnOq5kwHISggPuW4.png', 'scissors/MqPYNCxzDBls3LRf.png', 'scissors/TJUiCdN9LUl2xPSE.png', 'scissors/NRzk5UfsKrSztt2j.png', 'scissors/ZHY8N2y7tIomiozo.png', 'scissors/Xghl7QyFQxkC7zNQ.png', 'scissors/RPQtLp789cqfKEQE.png', 'scissors/UPH9bl4Vrq4Gwp3K.png', 'scissors/MGEIcCr7BQbB4xrs.png', 'scissors/OLBaBUjL8DE58OvS.png', 'scissors/W9JxpjHtiPBtRMT0.png', 'scissors/YaRYYDirKENPeJcS.png', 'scissors/PV4JNT7EUevp0FDj.png', 'scissors/UTc5RnTVPMdKnVPL.png', 'scissors/KMUCDyhYewIdDnvu.png', 'scissors/W6jpdF8qZXwnsopw.png', 'scissors/RZpLPA2iKiZ2GXR9.png', 'scissors/L6O2HLgQIo7XdfdU.png', 'scissors/RpIg0o9X94lDnNcX.png', 'scissors/JULz0bpEBDkoMfh4.png', 'scissors/RhZBWRRTO5Uen1Yp.png', 'scissors/VQI4ru8aVkvWIHT4.png', 'scissors/R9GlL5dx9nmjXWlS.png', 'scissors/J0FIl8T1zObZcenP.png', 'scissors/UO03gubyPNMaJ8pj.png', 'scissors/IBauM2TU1KmGhsfT.png', 'scissors/SWoqkY88y24jzfHP.png', 'scissors/bLJSE1dl7VbQCUF9.png', 'scissors/a9YV7Tzoj751vTun.png', 'scissors/QjvKDUTFuGf7gAm4.png', 'scissors/Z6CURxA1iRNhTzO9.png', 'scissors/XrNTSnUh9OxytAYI.png', 'scissors/LHW5Ms4SEAGtveh5.png', 'scissors/XPvABb1iOSQx69Dq.png', 'scissors/PObNJKVS6CGp8t2M.png', 'scissors/JraYBjsfVGokNFhR.png', 'scissors/NR48QMe5e1gskpA9.png', 'scissors/NSv28DjjZXJ8mvhi.png', 'scissors/ak3LcYS6c0jfzncs.png', 'scissors/Ma48V1PQ0ylc88AU.png', 'scissors/JjS0KakWxwXmg5Wi.png', 'scissors/KfZNOowxVhhRLrza.png', 'scissors/NfmReZcDjjo6EJ3z.png', 'scissors/IY2XFK2Iinzy6K4i.png', 'scissors/cDveaur4dR2ZCCo8.png', 'scissors/J06aYYcl79xoBD0g.png', 'scissors/Lv7HtvXSy9JMzap2.png', 'scissors/Tghe750qrbh7MMpP.png', 'scissors/RtsIA3p963IFGi8t.png', 'scissors/IZYmxHXE1DVHJfYm.png', 'scissors/YtwkLLgHWgoRfTaB.png', 'scissors/PsPaUu1XDiYpp92z.png', 'scissors/MPiImIdtqCEKxDbP.png', 'scissors/VNbhUgHmivsf9WeB.png', 'scissors/XBP2RvuuQk5EMXsW.png', 'scissors/VcyQqsyvtkuKXWWz.png', 'scissors/UJ5WJEvN4vQ86HKA.png', 'scissors/PWtGlvRP69nLSr9F.png', 'scissors/T6IiF7nWO9Tf0adD.png', 'scissors/X04PclHUrXo1cF1d.png', 'scissors/M5u2FmtXKSMtK8yN.png', 'scissors/ZyZeKfG5s1J9Qn64.png', 'scissors/c5vx49tv1qUAH19T.png', 'scissors/OYBNEmjQC8Uh2cC5.png', 'scissors/XSI0ZmaJN2CfPs3B.png', 'scissors/V14OoL0RMpvwPptc.png', 'scissors/ZGPpmBaEH8F0qXzI.png', 'scissors/R9xpzPuawT5aH69c.png', 'scissors/RrbEWg7xTBv2qa9q.png', 'scissors/YTAomJ0XCIRzqKKX.png', 'scissors/Rk0jnjn8GxT17vIT.png', 'scissors/PQTyLq9Esb7RzmzH.png', 'scissors/J1xlCySVCiSiwbcF.png', 'scissors/UlvWQ1fnwQeGYNTa.png', 'scissors/b6laDVaqf5K3aQvH.png', 'scissors/TxkHaqZ5Mg3Jfs80.png', 'scissors/TfQG2fJYyDv8Ic8P.png', 'scissors/Osm4O4K7sdFOSiRk.png', 'scissors/Y5XFnk5x9pi67RxA.png', 'scissors/OA0s5AsfJEm96cxd.png', 'scissors/PnuPFf14FGLB9AKu.png', 'scissors/Kzghoy329glIgfcC.png', 'scissors/Z2jcrWNs2feSmVtI.png', 'scissors/bAQiTy59XVNlKqc4.png', 'scissors/KAXMiWZQIm1n1Hji.png', 'scissors/M7i5TSor3J09Sy1O.png', 'scissors/MpiOsioYVx1AJelO.png', 'scissors/HJ3qSJKzOvM3IwZR.png', 'scissors/VOgDVSfapx23t5tA.png', 'scissors/bzQcSRVP3M7abinD.png', 'scissors/a8DBHodNOhJCxQrN.png', 'scissors/b4Qm4ZK5AAUQo1Ax.png', 'scissors/YqEvBlhrl5XkzIlO.png', 'scissors/bmlw6acW9500qauw.png', 'scissors/aDk2yxglXt7Xkrzw.png', 'scissors/WUEe440w137BuSEE.png', 'scissors/JCPNp02x7U7KU7bP.png', 'scissors/LErff4WDwhjsYG8Z.png', 'scissors/QnZhnT6KrmNd35VN.png', 'scissors/HGhHQ3uNh7XFl2ar.png', 'scissors/YXMdBr7G2GS6sN1v.png', 'scissors/JTzFGcfB5wsRyDrm.png', 'scissors/WtS1aLhJK2FZpcEt.png', 'scissors/K06meJWsLavqjfyX.png', 'scissors/R27mU9zJCmv8wi1o.png', 'scissors/TklTtKIVRWh2HA94.png', 'scissors/Zz1djgkAdRqsHM3z.png', 'scissors/cPuxKnJCdcTotM5k.png', 'scissors/IOa7xROJIqP2jRQE.png', 'scissors/XJWYAuk9dfdmUAIw.png', 'scissors/JlHdrLmHFDNY7Cy2.png', 'scissors/JNPDbgVUhQbrurMZ.png', 'scissors/KngvagTrRurJUlI5.png', 'scissors/UDihI8vQDjvGJRjO.png', 'scissors/QbAO4VZw7Jlcenou.png', 'scissors/QmIo8xYOtQcTMJlO.png', 'scissors/MFlCOcvmOe3jejwy.png', 'scissors/aK8TLrx71gTLlSXX.png', 'scissors/RRarqefXkioSeU1z.png', 'scissors/VSitIYv6wmfRhoKj.png', 'scissors/XXKgbWzJCa3JSYdz.png', 'scissors/U6bMgGB3gf9rMBvE.png', 'scissors/RCThbCZDuS9DMCY7.png', 'scissors/XWF7hCQnD6qfJUCI.png', 'scissors/Hkq2KHtnKxyBLLPU.png', 'scissors/P89hjrsbJroQJg19.png', 'scissors/PJxEXjRb0K0Mpgsz.png', 'scissors/M6PgmHZxElc7AKM5.png', 'scissors/WYOb0YuOVCMs7ebJ.png', 'scissors/ainbAijlBiMxQcNq.png', 'scissors/U548QDFNMOTUq5nN.png', 'scissors/LiCKhA8ipxSqU9Fo.png', 'scissors/WoS4fluqoRRsfjle.png', 'scissors/PcrxANaDvhRnDlxq.png', 'scissors/H9JStRaVHPocFlEq.png', 'scissors/XpFaeZAqFUqqJ85b.png', 'scissors/ReZf7r7O8OZ1R3Cm.png', 'scissors/Xu49k2rxvWRflm2W.png', 'scissors/WQlZZHmfKvMFfUE8.png', 'scissors/NInKk7uh3vNRuwCm.png', 'scissors/P3sJVlVAylvpky7E.png', 'scissors/ZcGYyQZWKP4EcVEz.png', 'scissors/Jqu0bjUyPoEcMNhN.png', 'scissors/LFzPbXpksRrG9jpF.png', 'scissors/Qonst5LFs961D77L.png', 'scissors/PiurKNJwniJWLxD8.png', 'scissors/Us8s37BoILcW4tgE.png', 'scissors/Z1leFM4TO5u2eSaI.png', 'scissors/M8ctr4cjddfGnoWg.png', 'scissors/MfDDFjVkEdWKPi2X.png', 'scissors/Lx4Xy1Odplz4I1u8.png', 'scissors/Ty7ti2YUZ4XJcaOk.png', 'scissors/c9oqImbEKG7Ij1cO.png', 'scissors/TAaTUXACEp7hTNFW.png', 'scissors/Vn5KkLfrFuLeRyKZ.png', 'scissors/KP9dgcRNzQE9tV0Z.png', 'scissors/SsNjRQhLfqyGZtkG.png', 'scissors/PVsR1GzEGP3wznMy.png', 'scissors/OWzxS6m9SGpk1bnY.png', 'scissors/bn7yju6XvU87slzH.png', 'scissors/RTCZxs3LhwklhSKk.png', 'scissors/OvlZhZPWYPjouJIM.png', 'scissors/TNOQ2IEy4C6LBSD1.png', 'scissors/R8EezCr0SD3e39T0.png', 'scissors/KSNET1XTWbrg5Rcz.png', 'scissors/W7ijVLyfVPL2msio.png', 'scissors/JWz75J1U5sGr1FH2.png', 'scissors/KM8TqJbWqew79vPt.png', 'scissors/Y2lr5d6VnNfievnA.png', 'scissors/ZCr3PjDcttbKRAAW.png', 'scissors/WGm4eYxzwqkTKaQs.png', 'scissors/cLvjnABO9kFuwjP0.png', 'scissors/Q2F8cfDaghfz8PyX.png', 'scissors/LZ7UTYEoDao1EcYX.png', 'scissors/NMWjLWPkXc8YmJTP.png', 'scissors/L9QKyMsMtrSwJhRa.png', 'scissors/TqrIZuWA1XJR0MEK.png', 'scissors/NHGSRXPwGLyQFNdh.png', 'scissors/asi6ZQCskd51eHm1.png', 'scissors/IzA79EWPoX9pRKhq.png', 'scissors/aMTILDN4K2ZEjYAx.png', 'scissors/RQgc9a0ml3hXrJXq.png', 'scissors/JtDq2l0qrhsysghx.png', 'scissors/SMQFKEq55U7752xf.png', 'scissors/IqHedcZ3nrBRxpn6.png', 'scissors/SiIASaSafeaodwOd.png', 'scissors/QUqw1jotp4mOm1ZY.png', 'scissors/SEQCe9xFE7XXGeUh.png', 'scissors/N1OyHVPqxT0iO0vF.png', 'scissors/Px1M92VqNpLveOTC.png', 'scissors/HEvNErOwJyFQMMIB.png', 'scissors/KNNsNhduqSfuqEK5.png', 'scissors/HLeuB19sXYxS84Gt.png', 'scissors/XNsF8hyn9RBUaFnw.png', 'scissors/MFG70ohG4iZ3xm3b.png', 'scissors/KcCGOFZoEMOitVPh.png', 'scissors/UmpmKO5O9ku8kBwj.png', 'scissors/HqB3HFyK3VvZha0Y.png', 'scissors/Y803FUXqbDOwGm0K.png', 'scissors/IdrewaHdlHRrNHbJ.png', 'scissors/RydyYWgvhLQPwEaw.png', 'scissors/M8g1dW2y0mQxe3OR.png', 'scissors/IH5gpU7fLJSn90Rx.png', 'scissors/JOwOktLqjDF0qFIW.png', 'scissors/H9H5HhYMY6vhEUJ4.png', 'scissors/T8GWcDJlUuzt12VL.png', 'scissors/R8yTHsEmwnN776s2.png', 'scissors/NeYB1usFd9o84q13.png', 'scissors/S2VG3n7WLkBpjNb1.png', 'scissors/TTISkHEEyMVpUk5B.png', 'scissors/XC8NJo82qJO44Nim.png', 'scissors/Pms0QO8IsSP02WTP.png', 'scissors/aRca3k5D1oCHVx0h.png', 'scissors/oNZAuH1gIa65iSMu.png', 'scissors/pJix3Ef2BAOt7yAz.png', 'scissors/hP1nFePk6ao9xKDF.png', 'scissors/mtLouezQUnTbfEgj.png', 'scissors/mxyADQuZCMwE1Nv5.png', 'scissors/sJtSZbQH0MF9U4oa.png', 'scissors/sNnaELZrclDFKtoL.png', 'scissors/n3OFHC3Uz9y9JsaM.png', 'scissors/o00DBW79f2BHDaJ2.png', 'scissors/qblMZUcJN3odjQlm.png', 'scissors/lPWbZ5JDB0gjIv2J.png', 'scissors/sVmVaYH9SUDDI6y4.png', 'scissors/eqJEQe8W9FP4TOck.png', 'scissors/gbGB4caRQYsV8ZcR.png', 'scissors/ta6G9KRgDwtvZsrJ.png', 'scissors/yUG4uvp1tvCVbLlk.png', 'scissors/y9PxZE5NfOO323Nv.png', 'scissors/kCoX1GxQ9o2ZhRy9.png', 'scissors/iM1hcJsC387vy9YA.png', 'scissors/syu2UUmhELg3nol9.png', 'scissors/o3uLvDdBwKBY9793.png', 'scissors/glvH49YVWOtxdOyh.png', 'scissors/fFnXXczN4qqWFcsE.png', 'scissors/mIFCv2K3nBdTMjku.png', 'scissors/mAjn51U2iJwlh99P.png', 'scissors/mmLhBFvXWgD957XY.png', 'scissors/tTOLtCt5p5upFetg.png', 'scissors/h8GCEjkSpQjdUuZH.png', 'scissors/hAb9a8XAGVZnLM6m.png', 'scissors/i5CZnAPMNTZtM13A.png', 'scissors/dxFGJyDhnNu3iOmm.png', 'scissors/tLHK08LTpqrSPnkX.png', 'scissors/plCaKcxMczZTYQYV.png', 'scissors/eTkUxksFCvfsbVLs.png', 'scissors/e7wuzMq70FDcvaFr.png', 'scissors/z6HDaayUjgx6LnhS.png', 'scissors/dyXtUOfqM9sxdcXr.png', 'scissors/kY0Q7raIkxwCCOk2.png', 'scissors/kM3ks8HWMjhbBPWU.png', 'scissors/kklrxqhAClWO5J80.png', 'scissors/w1NflQUWVQmFdZdI.png', 'scissors/sUi91SccB2jXsjyd.png', 'scissors/wMLAOfEG0tDVHVX0.png', 'scissors/uJ286TPihhYw3Y3S.png', 'scissors/dOgYDnySFw6fj21T.png', 'scissors/iXpTSeMxuDfhayJw.png', 'scissors/dowAehk6HVomDGpw.png', 'scissors/gQyIUVHeIS3WYuzv.png', 'scissors/jWUoY57nkFKUUdD5.png', 'scissors/i0pYFjwidPeBL3je.png', 'scissors/urK4D0Tf5XNKCgIJ.png', 'scissors/gK1XEsUjwJ5gDOSz.png', 'scissors/qhd04h0tECbOylIV.png', 'scissors/wQC1ZnzFaPmqMzp0.png', 'scissors/tHvKVZRQUsqNt0g4.png', 'scissors/od9zrr7aF0p8VPRM.png', 'scissors/hzfrafUqDDoL0esu.png', 'scissors/xAnfzBYnsnuru9Nf.png', 'scissors/hzvSpM4olIqXfeVt.png', 'scissors/oYB271o4Oo5uFHpW.png', 'scissors/itXNIVO7ghl2qja8.png', 'scissors/tVigGbWgM7Rp9ic4.png', 'scissors/q0tN60NS2kZFBzts.png', 'scissors/e1qGNUkh9ecj7QG3.png', 'scissors/jwdItCvoNRkssn6D.png', 'scissors/sC3hanWBPaeGV4xg.png', 'scissors/jui5QU0jWOCKf8hW.png', 'scissors/vqUZ6XnuzKHIFVOO.png', 'scissors/lSAWzGgHunaNt7jj.png', 'scissors/s9hnXT0uSjC6vl6W.png', 'scissors/wuoizA09gXbcCZ5a.png', 'scissors/xCagFKogHbiqcrmG.png', 'scissors/sem0kkR24VbSRmAc.png', 'scissors/tZ8TlcDUMWqENtfF.png', 'scissors/zdo3LHesq3aHmu1f.png', 'scissors/ukg3QI26FUEa7YDn.png', 'scissors/oneWMcLqF5aVRqz8.png', 'scissors/fYsFOMTEQ0VIy1Ma.png', 'scissors/eU4VT33MEquo64QQ.png', 'scissors/sjx49D4yv4AIXKCy.png', 'scissors/ismjaxPJzOizyqOx.png', 'scissors/fu07mFhmsJAtiPwr.png', 'scissors/dFrcUPZxOwwT04y9.png', 'scissors/nfqbRmCrRbEXjgfb.png', 'scissors/szaSwJITsIY88vQk.png', 'scissors/qDxhtKaNFxsbGDm6.png', 'scissors/oxU5O3n839QvrOGu.png', 'scissors/jL3CMVgsLdWznnKe.png', 'scissors/xOdLJOH2sxWkgRTS.png', 'scissors/tvxYEibqtUm3woXx.png', 'scissors/ztTeXxuMaartlKMy.png', 'scissors/fIryCS56DD4INQKz.png', 'scissors/xQL4A9bjTuJuFj5K.png', 'scissors/yAuOKZfd9CyDMYdg.png', 'scissors/kzjICtBZVnwJrYeI.png', 'scissors/ejrBEOeknHrk4kCi.png', 'scissors/evBSpeXRlbUu82CV.png', 'scissors/z5l2JCxLM7igVya5.png', 'scissors/jrogjyPvn83c1ZRy.png', 'scissors/ngrJl9cJoUVFdYwO.png', 'scissors/tZYSEIgQN7PZ31tk.png', 'scissors/xALf82q7G9zbPjgN.png', 'scissors/vMAludIRGF14FuGn.png', 'scissors/g1gIEqOv6YDveleA.png', 'scissors/yxCsGCXdJ0UuGEol.png', 'scissors/uI2O1DwI1nIIx9Qu.png', 'scissors/mRlkMzgNq3PxHHe4.png', 'scissors/w58UIOAxkjM2L3AO.png', 'scissors/st0riwaAOtBFhJfA.png', 'scissors/xXxXuQZdlW8ebxCN.png', 'scissors/otBEUIQNFGMk80vF.png', 'scissors/hly8CYYf6AiQucXm.png', 'scissors/dFlxUAypUgfOZqoV.png', 'scissors/hyQDSSjNFHX7Wirc.png', 'scissors/kH6F4XFQOxMTRZj3.png', 'scissors/nf8YKjeoUMPtr65m.png', 'scissors/hJuytZrZ7fR1CWyi.png', 'scissors/qguumDPZwrNl7e1C.png', 'scissors/r2sdyTijtdmySs6h.png', 'scissors/lhD4U5er2UL6nfAH.png', 'scissors/qHXkVDE4py7UfvIQ.png', 'scissors/e8p8cRK4gABNoiaZ.png', 'scissors/ttGVYechgB3WAlum.png', 'scissors/tpIDNu7Hg6k1SZef.png', 'scissors/msOEQAWveiL7r5rp.png', 'scissors/w7862CEzcIVnMgG4.png', 'scissors/nOIg15ZJ3XuUVkT3.png', 'scissors/uQLROCDZVtwVCXfm.png', 'scissors/caj9PiWZ2BenuxXF.png', 'scissors/kyzq1dNdXgG9OZDb.png', 'scissors/eJ9GdFE4kzE0t5zh.png', 'scissors/fNhHWQTLa9YBoIo2.png', 'scissors/vLsE4fWvRdNXdkvb.png', 'scissors/xQB1ghQm8FBFNtBX.png', 'scissors/dLkgXxZJ7KFoD4Ky.png', 'scissors/nPGqkGXIocWAZgzO.png', 'scissors/wJNyEIqVDFH8bx5h.png', 'scissors/uU7I4uUVN2mDwZpo.png', 'scissors/tf8qhgtb5y3S8UiF.png', 'scissors/fnV8zv0atHjQzfhV.png', 'scissors/ny4ARFjALtDxJqGg.png', 'scissors/nIwv11WKj5Ch85mv.png', 'scissors/kUUKyIbaWlM3GgEs.png', 'scissors/uM6obPsz0ALWxBjQ.png', 'scissors/vcEwRcuUMQ89i8on.png', 'scissors/fTwiqatiNNgEeTBi.png', 'scissors/m7ELYBy0O4wx0YqJ.png', 'scissors/e6O1EpJykTCPNfvI.png', 'scissors/dnXr5NzZKqzg8VgI.png', 'scissors/poCFGCxA1Vb8ucxm.png', 'scissors/khmBjKwffAIb566D.png', 'scissors/rtrnZkXYASc50OOJ.png', 'scissors/rgh4Zpx9TkORJIWe.png', 'scissors/s1gqGqCAbVLwDSw8.png', 'scissors/fXrAew7llUJLK8CU.png', 'scissors/rg2UeHqmCL67Pl4o.png', 'scissors/sYwtAuLI5zLIEfJI.png', 'scissors/ejWJ6Ber6qqXnuag.png', 'scissors/tY10CBYriMn4lsUO.png', 'scissors/uCRRTGuvPMUiZXYz.png', 'scissors/ntwoVP9pgUbs3LGq.png', 'scissors/wKb3eKZpMml0XY9D.png', 'scissors/qfwqUBajqgUWpW86.png', 'scissors/yMcXpAajchPmSbnw.png', 'scissors/qoU2kq8bmOjMY5e0.png', 'scissors/oDhw5SDj3rprGmyc.png', 'scissors/xKyBoUZHpqSVqTLx.png', 'scissors/k7KXWWd1IymDhMIm.png', 'scissors/yAEtN7WUvS5S1Cmy.png', 'scissors/mViP022ujNQr6UX1.png', 'scissors/g2CVyHgIl83M2F0m.png', 'scissors/jy6fSFQ1ynecl3P7.png', 'scissors/qHNvtsWSBDT0FnMt.png', 'scissors/zepzkaBk60xgpP3C.png', 'scissors/n8R1AoBrBUeqH7wZ.png', 'scissors/pjOgxx8uZf2XPDFu.png', 'scissors/sWC2BZ7oeSzsCXva.png', 'scissors/mxNMUcdf5UjHfyZQ.png', 'scissors/oKkvmTaZN5M8MCyt.png', 'scissors/z7TWGDT2mb6DsKuG.png', 'scissors/oxyMOfWC1lQU6dRf.png', 'scissors/lGC1Z9CaHybrKaoK.png', 'scissors/mfrG6yVMg6CEzoCN.png', 'scissors/vk4PY18fJkMJvtbm.png', 'scissors/v9Y88d4jR0phu1rv.png', 'scissors/fRkWkCO0r8ZJ6ury.png', 'scissors/lMMb00aQLU5FP5rd.png', 'scissors/g6KeAGhgzo4NSYWc.png', 'scissors/rPWSuNNi9TZbKb7l.png', 'scissors/svWW1IeCIfKmCxvY.png', 'scissors/uFQ3SN5QxNyXoBmx.png', 'scissors/yiOfEmSzPhjaYDwH.png', 'scissors/jX4XP2bjq762S0Wj.png', 'scissors/jVsCBh8HQczKdHci.png', 'scissors/d9N9D5ldS6PCfFXu.png', 'scissors/xgFgqnPJIU3u1ZqY.png', 'scissors/fdVS2hjaLlbu5u8J.png', 'scissors/jbj5K46TOmR5hkWu.png', 'scissors/h5MbTDhsN1x308Je.png', 'scissors/p67xXnYGlchlu7pi.png', 'scissors/rOigyekSUNnTrmz6.png', 'scissors/wjpTy95PqKpcRg9o.png', 'scissors/s3L79HfHyX9tyTS0.png', 'scissors/wvySukQJa9DYOX8v.png', 'scissors/ik80sIT0Ao6APY3M.png', 'scissors/o3cajP31029qBUIX.png', 'scissors/gzRmdTIFRzV34Vjl.png', 'scissors/o1cPo5Z2YLfTz2vJ.png', 'scissors/nukdu4gV8vol1FY9.png', 'scissors/r0rDY3jRgJB5q9MX.png', 'scissors/fRMSey1LBvG1TRWj.png', 'scissors/twG9gv5cSKwb2CqR.png', 'scissors/e8hlT6glM2V2RYgN.png', 'scissors/wbdzYsdRWCWjL2Pg.png', 'scissors/j3c7JHbJwmnOq6cu.png', 'scissors/ru1tyCfPe2JmorzL.png', 'scissors/pLBH6c1NAfL1xVTn.png', 'scissors/uRSLPvxdMFumUTl4.png', 'scissors/gLvAPtEJW1Ff5KLX.png', 'scissors/x0d1n2y61LHxML3g.png', 'scissors/vur2opqCdVFD3f6c.png', 'scissors/utufwM3u0nx14c52.png', 'scissors/sZiHU8vzCRw4Z2jg.png', 'scissors/zV0yCNG0C9s4GId3.png', 'scissors/hmu0D0hhHVAD8wXd.png', 'scissors/xfdYfkrgEZ2fuuck.png', 'scissors/q936z2wWrJh1ITTp.png', 'scissors/qq6omTHIt2LwuAo0.png', 'scissors/oJHJKGs9EiSNQo1m.png', 'scissors/cbGRRpm8EE2K6pDH.png', 'scissors/qu2vQ5gzrN7dOu1Y.png', 'scissors/ePMywMOdTHYyxe1o.png', 'scissors/vTLtWUiqxDhncYin.png', 'scissors/psMU7A2lP3JHiyjV.png', 'scissors/yPDwuZYpXF1iWDVh.png', 'scissors/eCrwTPFv8gvWXubN.png', 'scissors/mdSPppG9v9OmnIyY.png', 'scissors/qEeUSbz2Np2Qin0G.png', 'scissors/ksWe2SZsjOoLAzf5.png', 'scissors/e5dFezMV6TxIvNXA.png', 'scissors/gzAhbz3S2W0VukHE.png', 'scissors/dpmWj9s5ily8GuyY.png', 'scissors/kiUc9msxBC2UZJ5g.png', 'scissors/mBHQsHWDcRvtLIKC.png', 'scissors/dkrdiLQ61q78gidZ.png', 'scissors/gs2BzCeH7aDo8Lhs.png', 'scissors/esPjow7BN3RXc4gk.png', 'scissors/dpBDoATNj0ZtqSz3.png', 'scissors/tPxruYoQszERdzTA.png', 'scissors/yt2EhLUQ7yDuIlG4.png', 'scissors/kP93zKVUzAJpIWpV.png', 'scissors/qpw9fZk3IDIXXJEr.png', 'scissors/rGgiaJArxCsrf5RK.png', 'scissors/znR0vgP11p6yX3nI.png', 'scissors/vua0e2tJtebtNywx.png', 'scissors/nHMXDFvdVQ8Vb0F7.png', 'scissors/zyml8p6mHzWWJTyw.png', 'scissors/wxHuDLxKADn1JJqS.png', 'scissors/itSX8Pe5BwSSbcEb.png', 'scissors/m5ykDPqbTkPOEgWW.png', 'scissors/gWsh2wyYZXw7an5G.png', 'scissors/mrWRR4bVPDvIIg7D.png', 'scissors/wT8z7icdMJt816Ix.png', 'scissors/inP9wrbC4x26yBW9.png', 'scissors/jMVjrTQfvJ0xLTOt.png', 'scissors/o6sFIzkVY4xKTgrH.png', 'scissors/pZ9zE5ahoKZhIZqm.png', 'scissors/uMy6gyGTY6epng27.png', 'scissors/dWIQvO3tVSLw4etp.png', 'scissors/xPDNBvgWZrdijzTm.png', 'scissors/wNuL3RC8AtAW70Bx.png', 'scissors/iYOrHPwEvEe7rXSL.png', 'scissors/xtv6VZ84IEFHd9pS.png', 'scissors/loXdJgVrbcZGFjas.png', 'scissors/ro7qIekrW8rAUNH1.png', 'scissors/kC1AoCFrvaMKlTDk.png', 'scissors/j1EfA5DclfCJdzLb.png']\n",
            "['rock', 'rock', 'rock', 'rock', 'rock', 'rock', 'rock', 'rock', 'rock', 'rock', 'rock', 'rock', 'rock', 'rock', 'rock', 'rock', 'rock', 'rock', 'rock', 'rock', 'rock', 'rock', 'rock', 'rock', 'rock', 'rock', 'rock', 'rock', 'rock', 'rock', 'rock', 'rock', 'rock', 'rock', 'rock', 'rock', 'rock', 'rock', 'rock', 'rock', 'rock', 'rock', 'rock', 'rock', 'rock', 'rock', 'rock', 'rock', 'rock', 'rock', 'rock', 'rock', 'rock', 'rock', 'rock', 'rock', 'rock', 'rock', 'rock', 'rock', 'rock', 'rock', 'rock', 'rock', 'rock', 'rock', 'rock', 'rock', 'rock', 'rock', 'rock', 'rock', 'rock', 'rock', 'rock', 'rock', 'rock', 'rock', 'rock', 'rock', 'rock', 'rock', 'rock', 'rock', 'rock', 'rock', 'rock', 'rock', 'rock', 'rock', 'rock', 'rock', 'rock', 'rock', 'rock', 'rock', 'rock', 'rock', 'rock', 'rock', 'rock', 'rock', 'rock', 'rock', 'rock', 'rock', 'rock', 'rock', 'rock', 'rock', 'rock', 'rock', 'rock', 'rock', 'rock', 'rock', 'rock', 'rock', 'rock', 'rock', 'rock', 'rock', 'rock', 'rock', 'rock', 'rock', 'rock', 'rock', 'rock', 'rock', 'rock', 'rock', 'rock', 'rock', 'rock', 'rock', 'rock', 'rock', 'rock', 'rock', 'rock', 'rock', 'rock', 'rock', 'rock', 'rock', 'rock', 'rock', 'rock', 'rock', 'rock', 'rock', 'rock', 'rock', 'rock', 'rock', 'rock', 'rock', 'rock', 'rock', 'rock', 'rock', 'rock', 'rock', 'rock', 'rock', 'rock', 'rock', 'rock', 'rock', 'rock', 'rock', 'rock', 'rock', 'rock', 'rock', 'rock', 'rock', 'rock', 'rock', 'rock', 'rock', 'rock', 'rock', 'rock', 'rock', 'rock', 'rock', 'rock', 'rock', 'rock', 'rock', 'rock', 'rock', 'rock', 'rock', 'rock', 'rock', 'rock', 'rock', 'rock', 'rock', 'rock', 'rock', 'rock', 'rock', 'rock', 'rock', 'rock', 'rock', 'rock', 'rock', 'rock', 'rock', 'rock', 'rock', 'rock', 'rock', 'rock', 'rock', 'rock', 'rock', 'rock', 'rock', 'rock', 'rock', 'rock', 'rock', 'rock', 'rock', 'rock', 'rock', 'rock', 'rock', 'rock', 'rock', 'rock', 'rock', 'rock', 'rock', 'rock', 'rock', 'rock', 'rock', 'rock', 'rock', 'rock', 'rock', 'rock', 'rock', 'rock', 'rock', 'rock', 'rock', 'rock', 'rock', 'rock', 'rock', 'rock', 'rock', 'rock', 'rock', 'rock', 'rock', 'rock', 'rock', 'rock', 'rock', 'rock', 'rock', 'rock', 'rock', 'rock', 'rock', 'rock', 'rock', 'rock', 'rock', 'rock', 'rock', 'rock', 'rock', 'rock', 'rock', 'rock', 'rock', 'rock', 'rock', 'rock', 'rock', 'rock', 'rock', 'rock', 'rock', 'rock', 'rock', 'rock', 'rock', 'rock', 'rock', 'rock', 'rock', 'rock', 'rock', 'rock', 'rock', 'rock', 'rock', 'rock', 'rock', 'rock', 'rock', 'rock', 'rock', 'rock', 'rock', 'rock', 'rock', 'rock', 'rock', 'rock', 'rock', 'rock', 'rock', 'rock', 'rock', 'rock', 'rock', 'rock', 'rock', 'rock', 'rock', 'rock', 'rock', 'rock', 'rock', 'rock', 'rock', 'rock', 'rock', 'rock', 'rock', 'rock', 'rock', 'rock', 'rock', 'rock', 'rock', 'rock', 'rock', 'rock', 'rock', 'rock', 'rock', 'rock', 'rock', 'rock', 'rock', 'rock', 'rock', 'rock', 'rock', 'rock', 'rock', 'rock', 'rock', 'rock', 'rock', 'rock', 'rock', 'rock', 'rock', 'rock', 'rock', 'rock', 'rock', 'rock', 'rock', 'rock', 'rock', 'rock', 'rock', 'rock', 'rock', 'rock', 'rock', 'rock', 'rock', 'rock', 'rock', 'rock', 'rock', 'rock', 'rock', 'rock', 'rock', 'rock', 'rock', 'rock', 'rock', 'rock', 'rock', 'rock', 'rock', 'rock', 'rock', 'rock', 'rock', 'rock', 'rock', 'rock', 'rock', 'rock', 'rock', 'rock', 'rock', 'rock', 'rock', 'rock', 'rock', 'rock', 'rock', 'rock', 'rock', 'rock', 'rock', 'rock', 'rock', 'rock', 'rock', 'rock', 'rock', 'rock', 'rock', 'rock', 'rock', 'rock', 'rock', 'rock', 'rock', 'rock', 'rock', 'rock', 'rock', 'rock', 'rock', 'rock', 'rock', 'rock', 'rock', 'rock', 'rock', 'rock', 'rock', 'rock', 'rock', 'rock', 'rock', 'rock', 'rock', 'rock', 'rock', 'rock', 'rock', 'rock', 'rock', 'rock', 'rock', 'rock', 'rock', 'rock', 'rock', 'rock', 'rock', 'rock', 'rock', 'rock', 'rock', 'rock', 'rock', 'rock', 'rock', 'rock', 'rock', 'rock', 'rock', 'rock', 'rock', 'rock', 'rock', 'rock', 'rock', 'rock', 'rock', 'rock', 'rock', 'rock', 'rock', 'rock', 'rock', 'rock', 'rock', 'rock', 'rock', 'rock', 'rock', 'rock', 'rock', 'rock', 'rock', 'rock', 'rock', 'rock', 'rock', 'rock', 'rock', 'rock', 'rock', 'rock', 'rock', 'rock', 'rock', 'rock', 'rock', 'rock', 'rock', 'rock', 'rock', 'rock', 'rock', 'rock', 'rock', 'rock', 'rock', 'rock', 'rock', 'rock', 'rock', 'rock', 'rock', 'rock', 'rock', 'rock', 'rock', 'rock', 'rock', 'rock', 'rock', 'rock', 'rock', 'rock', 'rock', 'rock', 'rock', 'rock', 'rock', 'rock', 'rock', 'rock', 'rock', 'rock', 'rock', 'rock', 'rock', 'rock', 'rock', 'rock', 'rock', 'rock', 'rock', 'rock', 'rock', 'rock', 'rock', 'rock', 'rock', 'rock', 'rock', 'rock', 'rock', 'rock', 'rock', 'rock', 'rock', 'rock', 'rock', 'rock', 'rock', 'rock', 'rock', 'rock', 'rock', 'rock', 'rock', 'rock', 'rock', 'rock', 'rock', 'rock', 'rock', 'rock', 'rock', 'rock', 'rock', 'rock', 'rock', 'rock', 'rock', 'rock', 'rock', 'rock', 'rock', 'rock', 'rock', 'rock', 'rock', 'rock', 'rock', 'rock', 'rock', 'rock', 'rock', 'rock', 'rock', 'rock', 'rock', 'rock', 'rock', 'rock', 'rock', 'rock', 'rock', 'rock', 'rock', 'rock', 'rock', 'rock', 'rock', 'rock', 'rock', 'rock', 'rock', 'rock', 'rock', 'rock', 'rock', 'rock', 'rock', 'rock', 'rock', 'rock', 'rock', 'rock', 'rock', 'rock', 'rock', 'rock', 'rock', 'rock', 'rock', 'rock', 'rock', 'rock', 'rock', 'rock', 'rock', 'rock', 'rock', 'rock', 'rock', 'rock', 'rock', 'rock', 'rock', 'rock', 'rock', 'rock', 'rock', 'rock', 'rock', 'rock', 'rock', 'rock', 'rock', 'rock', 'rock', 'rock', 'rock', 'rock', 'rock', 'rock', 'rock', 'rock', 'rock', 'rock', 'rock', 'rock', 'rock', 'rock', 'rock', 'rock', 'rock', 'rock', 'rock', 'rock', 'rock', 'rock', 'rock', 'rock', 'rock', 'rock', 'rock', 'rock', 'rock', 'rock', 'rock', 'rock', 'rock', 'rock', 'rock', 'rock', 'rock', 'rock', 'rock', 'rock', 'rock', 'paper', 'paper', 'paper', 'paper', 'paper', 'paper', 'paper', 'paper', 'paper', 'paper', 'paper', 'paper', 'paper', 'paper', 'paper', 'paper', 'paper', 'paper', 'paper', 'paper', 'paper', 'paper', 'paper', 'paper', 'paper', 'paper', 'paper', 'paper', 'paper', 'paper', 'paper', 'paper', 'paper', 'paper', 'paper', 'paper', 'paper', 'paper', 'paper', 'paper', 'paper', 'paper', 'paper', 'paper', 'paper', 'paper', 'paper', 'paper', 'paper', 'paper', 'paper', 'paper', 'paper', 'paper', 'paper', 'paper', 'paper', 'paper', 'paper', 'paper', 'paper', 'paper', 'paper', 'paper', 'paper', 'paper', 'paper', 'paper', 'paper', 'paper', 'paper', 'paper', 'paper', 'paper', 'paper', 'paper', 'paper', 'paper', 'paper', 'paper', 'paper', 'paper', 'paper', 'paper', 'paper', 'paper', 'paper', 'paper', 'paper', 'paper', 'paper', 'paper', 'paper', 'paper', 'paper', 'paper', 'paper', 'paper', 'paper', 'paper', 'paper', 'paper', 'paper', 'paper', 'paper', 'paper', 'paper', 'paper', 'paper', 'paper', 'paper', 'paper', 'paper', 'paper', 'paper', 'paper', 'paper', 'paper', 'paper', 'paper', 'paper', 'paper', 'paper', 'paper', 'paper', 'paper', 'paper', 'paper', 'paper', 'paper', 'paper', 'paper', 'paper', 'paper', 'paper', 'paper', 'paper', 'paper', 'paper', 'paper', 'paper', 'paper', 'paper', 'paper', 'paper', 'paper', 'paper', 'paper', 'paper', 'paper', 'paper', 'paper', 'paper', 'paper', 'paper', 'paper', 'paper', 'paper', 'paper', 'paper', 'paper', 'paper', 'paper', 'paper', 'paper', 'paper', 'paper', 'paper', 'paper', 'paper', 'paper', 'paper', 'paper', 'paper', 'paper', 'paper', 'paper', 'paper', 'paper', 'paper', 'paper', 'paper', 'paper', 'paper', 'paper', 'paper', 'paper', 'paper', 'paper', 'paper', 'paper', 'paper', 'paper', 'paper', 'paper', 'paper', 'paper', 'paper', 'paper', 'paper', 'paper', 'paper', 'paper', 'paper', 'paper', 'paper', 'paper', 'paper', 'paper', 'paper', 'paper', 'paper', 'paper', 'paper', 'paper', 'paper', 'paper', 'paper', 'paper', 'paper', 'paper', 'paper', 'paper', 'paper', 'paper', 'paper', 'paper', 'paper', 'paper', 'paper', 'paper', 'paper', 'paper', 'paper', 'paper', 'paper', 'paper', 'paper', 'paper', 'paper', 'paper', 'paper', 'paper', 'paper', 'paper', 'paper', 'paper', 'paper', 'paper', 'paper', 'paper', 'paper', 'paper', 'paper', 'paper', 'paper', 'paper', 'paper', 'paper', 'paper', 'paper', 'paper', 'paper', 'paper', 'paper', 'paper', 'paper', 'paper', 'paper', 'paper', 'paper', 'paper', 'paper', 'paper', 'paper', 'paper', 'paper', 'paper', 'paper', 'paper', 'paper', 'paper', 'paper', 'paper', 'paper', 'paper', 'paper', 'paper', 'paper', 'paper', 'paper', 'paper', 'paper', 'paper', 'paper', 'paper', 'paper', 'paper', 'paper', 'paper', 'paper', 'paper', 'paper', 'paper', 'paper', 'paper', 'paper', 'paper', 'paper', 'paper', 'paper', 'paper', 'paper', 'paper', 'paper', 'paper', 'paper', 'paper', 'paper', 'paper', 'paper', 'paper', 'paper', 'paper', 'paper', 'paper', 'paper', 'paper', 'paper', 'paper', 'paper', 'paper', 'paper', 'paper', 'paper', 'paper', 'paper', 'paper', 'paper', 'paper', 'paper', 'paper', 'paper', 'paper', 'paper', 'paper', 'paper', 'paper', 'paper', 'paper', 'paper', 'paper', 'paper', 'paper', 'paper', 'paper', 'paper', 'paper', 'paper', 'paper', 'paper', 'paper', 'paper', 'paper', 'paper', 'paper', 'paper', 'paper', 'paper', 'paper', 'paper', 'paper', 'paper', 'paper', 'paper', 'paper', 'paper', 'paper', 'paper', 'paper', 'paper', 'paper', 'paper', 'paper', 'paper', 'paper', 'paper', 'paper', 'paper', 'paper', 'paper', 'paper', 'paper', 'paper', 'paper', 'paper', 'paper', 'paper', 'paper', 'paper', 'paper', 'paper', 'paper', 'paper', 'paper', 'paper', 'paper', 'paper', 'paper', 'paper', 'paper', 'paper', 'paper', 'paper', 'paper', 'paper', 'paper', 'paper', 'paper', 'paper', 'paper', 'paper', 'paper', 'paper', 'paper', 'paper', 'paper', 'paper', 'paper', 'paper', 'paper', 'paper', 'paper', 'paper', 'paper', 'paper', 'paper', 'paper', 'paper', 'paper', 'paper', 'paper', 'paper', 'paper', 'paper', 'paper', 'paper', 'paper', 'paper', 'paper', 'paper', 'paper', 'paper', 'paper', 'paper', 'paper', 'paper', 'paper', 'paper', 'paper', 'paper', 'paper', 'paper', 'paper', 'paper', 'paper', 'paper', 'paper', 'paper', 'paper', 'paper', 'paper', 'paper', 'paper', 'paper', 'paper', 'paper', 'paper', 'paper', 'paper', 'paper', 'paper', 'paper', 'paper', 'paper', 'paper', 'paper', 'paper', 'paper', 'paper', 'paper', 'paper', 'paper', 'paper', 'paper', 'paper', 'paper', 'paper', 'paper', 'paper', 'paper', 'paper', 'paper', 'paper', 'paper', 'paper', 'paper', 'paper', 'paper', 'paper', 'paper', 'paper', 'paper', 'paper', 'paper', 'paper', 'paper', 'paper', 'paper', 'paper', 'paper', 'paper', 'paper', 'paper', 'paper', 'paper', 'paper', 'paper', 'paper', 'paper', 'paper', 'paper', 'paper', 'paper', 'paper', 'paper', 'paper', 'paper', 'paper', 'paper', 'paper', 'paper', 'paper', 'paper', 'paper', 'paper', 'paper', 'paper', 'paper', 'paper', 'paper', 'paper', 'paper', 'paper', 'paper', 'paper', 'paper', 'paper', 'paper', 'paper', 'paper', 'paper', 'paper', 'paper', 'paper', 'paper', 'paper', 'paper', 'paper', 'paper', 'paper', 'paper', 'paper', 'paper', 'paper', 'paper', 'paper', 'paper', 'paper', 'paper', 'paper', 'paper', 'paper', 'paper', 'paper', 'paper', 'paper', 'paper', 'paper', 'paper', 'paper', 'paper', 'paper', 'paper', 'paper', 'paper', 'paper', 'paper', 'paper', 'paper', 'paper', 'paper', 'paper', 'paper', 'paper', 'paper', 'paper', 'paper', 'paper', 'paper', 'paper', 'paper', 'paper', 'paper', 'paper', 'paper', 'paper', 'paper', 'paper', 'paper', 'paper', 'paper', 'paper', 'paper', 'paper', 'paper', 'paper', 'paper', 'paper', 'paper', 'paper', 'paper', 'paper', 'paper', 'paper', 'paper', 'paper', 'paper', 'paper', 'paper', 'paper', 'paper', 'paper', 'paper', 'paper', 'paper', 'paper', 'paper', 'paper', 'paper', 'paper', 'paper', 'paper', 'paper', 'paper', 'paper', 'paper', 'paper', 'paper', 'paper', 'paper', 'paper', 'paper', 'paper', 'paper', 'paper', 'paper', 'paper', 'paper', 'paper', 'paper', 'paper', 'paper', 'paper', 'paper', 'paper', 'paper', 'paper', 'paper', 'paper', 'paper', 'paper', 'paper', 'paper', 'paper', 'paper', 'paper', 'paper', 'paper', 'paper', 'paper', 'paper', 'paper', 'paper', 'paper', 'paper', 'paper', 'paper', 'paper', 'paper', 'paper', 'paper', 'paper', 'paper', 'paper', 'paper', 'paper', 'paper', 'paper', 'paper', 'paper', 'paper', 'scissors', 'scissors', 'scissors', 'scissors', 'scissors', 'scissors', 'scissors', 'scissors', 'scissors', 'scissors', 'scissors', 'scissors', 'scissors', 'scissors', 'scissors', 'scissors', 'scissors', 'scissors', 'scissors', 'scissors', 'scissors', 'scissors', 'scissors', 'scissors', 'scissors', 'scissors', 'scissors', 'scissors', 'scissors', 'scissors', 'scissors', 'scissors', 'scissors', 'scissors', 'scissors', 'scissors', 'scissors', 'scissors', 'scissors', 'scissors', 'scissors', 'scissors', 'scissors', 'scissors', 'scissors', 'scissors', 'scissors', 'scissors', 'scissors', 'scissors', 'scissors', 'scissors', 'scissors', 'scissors', 'scissors', 'scissors', 'scissors', 'scissors', 'scissors', 'scissors', 'scissors', 'scissors', 'scissors', 'scissors', 'scissors', 'scissors', 'scissors', 'scissors', 'scissors', 'scissors', 'scissors', 'scissors', 'scissors', 'scissors', 'scissors', 'scissors', 'scissors', 'scissors', 'scissors', 'scissors', 'scissors', 'scissors', 'scissors', 'scissors', 'scissors', 'scissors', 'scissors', 'scissors', 'scissors', 'scissors', 'scissors', 'scissors', 'scissors', 'scissors', 'scissors', 'scissors', 'scissors', 'scissors', 'scissors', 'scissors', 'scissors', 'scissors', 'scissors', 'scissors', 'scissors', 'scissors', 'scissors', 'scissors', 'scissors', 'scissors', 'scissors', 'scissors', 'scissors', 'scissors', 'scissors', 'scissors', 'scissors', 'scissors', 'scissors', 'scissors', 'scissors', 'scissors', 'scissors', 'scissors', 'scissors', 'scissors', 'scissors', 'scissors', 'scissors', 'scissors', 'scissors', 'scissors', 'scissors', 'scissors', 'scissors', 'scissors', 'scissors', 'scissors', 'scissors', 'scissors', 'scissors', 'scissors', 'scissors', 'scissors', 'scissors', 'scissors', 'scissors', 'scissors', 'scissors', 'scissors', 'scissors', 'scissors', 'scissors', 'scissors', 'scissors', 'scissors', 'scissors', 'scissors', 'scissors', 'scissors', 'scissors', 'scissors', 'scissors', 'scissors', 'scissors', 'scissors', 'scissors', 'scissors', 'scissors', 'scissors', 'scissors', 'scissors', 'scissors', 'scissors', 'scissors', 'scissors', 'scissors', 'scissors', 'scissors', 'scissors', 'scissors', 'scissors', 'scissors', 'scissors', 'scissors', 'scissors', 'scissors', 'scissors', 'scissors', 'scissors', 'scissors', 'scissors', 'scissors', 'scissors', 'scissors', 'scissors', 'scissors', 'scissors', 'scissors', 'scissors', 'scissors', 'scissors', 'scissors', 'scissors', 'scissors', 'scissors', 'scissors', 'scissors', 'scissors', 'scissors', 'scissors', 'scissors', 'scissors', 'scissors', 'scissors', 'scissors', 'scissors', 'scissors', 'scissors', 'scissors', 'scissors', 'scissors', 'scissors', 'scissors', 'scissors', 'scissors', 'scissors', 'scissors', 'scissors', 'scissors', 'scissors', 'scissors', 'scissors', 'scissors', 'scissors', 'scissors', 'scissors', 'scissors', 'scissors', 'scissors', 'scissors', 'scissors', 'scissors', 'scissors', 'scissors', 'scissors', 'scissors', 'scissors', 'scissors', 'scissors', 'scissors', 'scissors', 'scissors', 'scissors', 'scissors', 'scissors', 'scissors', 'scissors', 'scissors', 'scissors', 'scissors', 'scissors', 'scissors', 'scissors', 'scissors', 'scissors', 'scissors', 'scissors', 'scissors', 'scissors', 'scissors', 'scissors', 'scissors', 'scissors', 'scissors', 'scissors', 'scissors', 'scissors', 'scissors', 'scissors', 'scissors', 'scissors', 'scissors', 'scissors', 'scissors', 'scissors', 'scissors', 'scissors', 'scissors', 'scissors', 'scissors', 'scissors', 'scissors', 'scissors', 'scissors', 'scissors', 'scissors', 'scissors', 'scissors', 'scissors', 'scissors', 'scissors', 'scissors', 'scissors', 'scissors', 'scissors', 'scissors', 'scissors', 'scissors', 'scissors', 'scissors', 'scissors', 'scissors', 'scissors', 'scissors', 'scissors', 'scissors', 'scissors', 'scissors', 'scissors', 'scissors', 'scissors', 'scissors', 'scissors', 'scissors', 'scissors', 'scissors', 'scissors', 'scissors', 'scissors', 'scissors', 'scissors', 'scissors', 'scissors', 'scissors', 'scissors', 'scissors', 'scissors', 'scissors', 'scissors', 'scissors', 'scissors', 'scissors', 'scissors', 'scissors', 'scissors', 'scissors', 'scissors', 'scissors', 'scissors', 'scissors', 'scissors', 'scissors', 'scissors', 'scissors', 'scissors', 'scissors', 'scissors', 'scissors', 'scissors', 'scissors', 'scissors', 'scissors', 'scissors', 'scissors', 'scissors', 'scissors', 'scissors', 'scissors', 'scissors', 'scissors', 'scissors', 'scissors', 'scissors', 'scissors', 'scissors', 'scissors', 'scissors', 'scissors', 'scissors', 'scissors', 'scissors', 'scissors', 'scissors', 'scissors', 'scissors', 'scissors', 'scissors', 'scissors', 'scissors', 'scissors', 'scissors', 'scissors', 'scissors', 'scissors', 'scissors', 'scissors', 'scissors', 'scissors', 'scissors', 'scissors', 'scissors', 'scissors', 'scissors', 'scissors', 'scissors', 'scissors', 'scissors', 'scissors', 'scissors', 'scissors', 'scissors', 'scissors', 'scissors', 'scissors', 'scissors', 'scissors', 'scissors', 'scissors', 'scissors', 'scissors', 'scissors', 'scissors', 'scissors', 'scissors', 'scissors', 'scissors', 'scissors', 'scissors', 'scissors', 'scissors', 'scissors', 'scissors', 'scissors', 'scissors', 'scissors', 'scissors', 'scissors', 'scissors', 'scissors', 'scissors', 'scissors', 'scissors', 'scissors', 'scissors', 'scissors', 'scissors', 'scissors', 'scissors', 'scissors', 'scissors', 'scissors', 'scissors', 'scissors', 'scissors', 'scissors', 'scissors', 'scissors', 'scissors', 'scissors', 'scissors', 'scissors', 'scissors', 'scissors', 'scissors', 'scissors', 'scissors', 'scissors', 'scissors', 'scissors', 'scissors', 'scissors', 'scissors', 'scissors', 'scissors', 'scissors', 'scissors', 'scissors', 'scissors', 'scissors', 'scissors', 'scissors', 'scissors', 'scissors', 'scissors', 'scissors', 'scissors', 'scissors', 'scissors', 'scissors', 'scissors', 'scissors', 'scissors', 'scissors', 'scissors', 'scissors', 'scissors', 'scissors', 'scissors', 'scissors', 'scissors', 'scissors', 'scissors', 'scissors', 'scissors', 'scissors', 'scissors', 'scissors', 'scissors', 'scissors', 'scissors', 'scissors', 'scissors', 'scissors', 'scissors', 'scissors', 'scissors', 'scissors', 'scissors', 'scissors', 'scissors', 'scissors', 'scissors', 'scissors', 'scissors', 'scissors', 'scissors', 'scissors', 'scissors', 'scissors', 'scissors', 'scissors', 'scissors', 'scissors', 'scissors', 'scissors', 'scissors', 'scissors', 'scissors', 'scissors', 'scissors', 'scissors', 'scissors', 'scissors', 'scissors', 'scissors', 'scissors', 'scissors', 'scissors', 'scissors', 'scissors', 'scissors', 'scissors', 'scissors', 'scissors', 'scissors', 'scissors', 'scissors', 'scissors', 'scissors', 'scissors', 'scissors', 'scissors', 'scissors', 'scissors', 'scissors', 'scissors', 'scissors', 'scissors', 'scissors', 'scissors', 'scissors', 'scissors', 'scissors', 'scissors', 'scissors', 'scissors', 'scissors', 'scissors', 'scissors', 'scissors', 'scissors', 'scissors', 'scissors', 'scissors', 'scissors', 'scissors', 'scissors', 'scissors', 'scissors', 'scissors', 'scissors', 'scissors', 'scissors', 'scissors', 'scissors', 'scissors', 'scissors', 'scissors', 'scissors', 'scissors', 'scissors', 'scissors', 'scissors', 'scissors', 'scissors', 'scissors', 'scissors', 'scissors', 'scissors', 'scissors', 'scissors', 'scissors', 'scissors', 'scissors', 'scissors', 'scissors', 'scissors', 'scissors', 'scissors', 'scissors', 'scissors', 'scissors', 'scissors', 'scissors', 'scissors', 'scissors', 'scissors', 'scissors', 'scissors', 'scissors', 'scissors', 'scissors', 'scissors', 'scissors', 'scissors', 'scissors', 'scissors', 'scissors', 'scissors', 'scissors', 'scissors', 'scissors', 'scissors', 'scissors', 'scissors', 'scissors', 'scissors', 'scissors', 'scissors', 'scissors', 'scissors', 'scissors', 'scissors', 'scissors', 'scissors', 'scissors', 'scissors', 'scissors', 'scissors', 'scissors', 'scissors', 'scissors', 'scissors', 'scissors', 'scissors', 'scissors', 'scissors', 'scissors', 'scissors', 'scissors', 'scissors', 'scissors', 'scissors', 'scissors', 'scissors', 'scissors', 'scissors', 'scissors', 'scissors', 'scissors', 'scissors', 'scissors', 'scissors', 'scissors', 'scissors', 'scissors', 'scissors', 'scissors', 'scissors', 'scissors', 'scissors', 'scissors', 'scissors', 'scissors', 'scissors', 'scissors', 'scissors', 'scissors', 'scissors', 'scissors', 'scissors', 'scissors', 'scissors', 'scissors', 'scissors', 'scissors', 'scissors', 'scissors', 'scissors', 'scissors', 'scissors', 'scissors', 'scissors', 'scissors', 'scissors', 'scissors', 'scissors', 'scissors', 'scissors', 'scissors', 'scissors', 'scissors', 'scissors', 'scissors', 'scissors', 'scissors', 'scissors', 'scissors', 'scissors', 'scissors', 'scissors', 'scissors', 'scissors', 'scissors', 'scissors', 'scissors', 'scissors', 'scissors', 'scissors', 'scissors', 'scissors', 'scissors', 'scissors', 'scissors', 'scissors', 'scissors', 'scissors', 'scissors', 'scissors']\n"
          ]
        }
      ]
    },
    {
      "cell_type": "code",
      "source": [
        "data = {\"filename\" : filename, \n",
        "        \"label\": label \n",
        "        }\n",
        "df = pd.DataFrame(data=data)\n",
        "\n",
        "df_shuffled = df.sample(frac=1)\n",
        "dataset = df_shuffled\n",
        "dataset"
      ],
      "metadata": {
        "colab": {
          "base_uri": "https://localhost:8080/",
          "height": 423
        },
        "id": "fHTo5yzPL_Xt",
        "outputId": "fb0f90e9-96ba-491e-f296-432256584117"
      },
      "execution_count": 5,
      "outputs": [
        {
          "output_type": "execute_result",
          "data": {
            "text/plain": [
              "                           filename     label\n",
              "939      paper/EVtIRpfQ2ys2A3ag.png     paper\n",
              "11        rock/INutMuoFBgugllQm.png      rock\n",
              "999      paper/U2InMVDH10R24eOb.png     paper\n",
              "445       rock/U4HuPlTKsnXYExzJ.png      rock\n",
              "259       rock/d5fTHW3xnYsDhax5.png      rock\n",
              "...                             ...       ...\n",
              "958      paper/LhgH8QOKfA5xu287.png     paper\n",
              "1154     paper/Y8kfG3f6KJa1YJPA.png     paper\n",
              "271       rock/UXc8KgQBF2jXEa9j.png      rock\n",
              "1798  scissors/YXMdBr7G2GS6sN1v.png  scissors\n",
              "230       rock/9kYPKMVtd4nOvSK4.png      rock\n",
              "\n",
              "[2188 rows x 2 columns]"
            ],
            "text/html": [
              "\n",
              "  <div id=\"df-693e51e4-afd0-4e09-bed6-34b6d2768a04\">\n",
              "    <div class=\"colab-df-container\">\n",
              "      <div>\n",
              "<style scoped>\n",
              "    .dataframe tbody tr th:only-of-type {\n",
              "        vertical-align: middle;\n",
              "    }\n",
              "\n",
              "    .dataframe tbody tr th {\n",
              "        vertical-align: top;\n",
              "    }\n",
              "\n",
              "    .dataframe thead th {\n",
              "        text-align: right;\n",
              "    }\n",
              "</style>\n",
              "<table border=\"1\" class=\"dataframe\">\n",
              "  <thead>\n",
              "    <tr style=\"text-align: right;\">\n",
              "      <th></th>\n",
              "      <th>filename</th>\n",
              "      <th>label</th>\n",
              "    </tr>\n",
              "  </thead>\n",
              "  <tbody>\n",
              "    <tr>\n",
              "      <th>939</th>\n",
              "      <td>paper/EVtIRpfQ2ys2A3ag.png</td>\n",
              "      <td>paper</td>\n",
              "    </tr>\n",
              "    <tr>\n",
              "      <th>11</th>\n",
              "      <td>rock/INutMuoFBgugllQm.png</td>\n",
              "      <td>rock</td>\n",
              "    </tr>\n",
              "    <tr>\n",
              "      <th>999</th>\n",
              "      <td>paper/U2InMVDH10R24eOb.png</td>\n",
              "      <td>paper</td>\n",
              "    </tr>\n",
              "    <tr>\n",
              "      <th>445</th>\n",
              "      <td>rock/U4HuPlTKsnXYExzJ.png</td>\n",
              "      <td>rock</td>\n",
              "    </tr>\n",
              "    <tr>\n",
              "      <th>259</th>\n",
              "      <td>rock/d5fTHW3xnYsDhax5.png</td>\n",
              "      <td>rock</td>\n",
              "    </tr>\n",
              "    <tr>\n",
              "      <th>...</th>\n",
              "      <td>...</td>\n",
              "      <td>...</td>\n",
              "    </tr>\n",
              "    <tr>\n",
              "      <th>958</th>\n",
              "      <td>paper/LhgH8QOKfA5xu287.png</td>\n",
              "      <td>paper</td>\n",
              "    </tr>\n",
              "    <tr>\n",
              "      <th>1154</th>\n",
              "      <td>paper/Y8kfG3f6KJa1YJPA.png</td>\n",
              "      <td>paper</td>\n",
              "    </tr>\n",
              "    <tr>\n",
              "      <th>271</th>\n",
              "      <td>rock/UXc8KgQBF2jXEa9j.png</td>\n",
              "      <td>rock</td>\n",
              "    </tr>\n",
              "    <tr>\n",
              "      <th>1798</th>\n",
              "      <td>scissors/YXMdBr7G2GS6sN1v.png</td>\n",
              "      <td>scissors</td>\n",
              "    </tr>\n",
              "    <tr>\n",
              "      <th>230</th>\n",
              "      <td>rock/9kYPKMVtd4nOvSK4.png</td>\n",
              "      <td>rock</td>\n",
              "    </tr>\n",
              "  </tbody>\n",
              "</table>\n",
              "<p>2188 rows × 2 columns</p>\n",
              "</div>\n",
              "      <button class=\"colab-df-convert\" onclick=\"convertToInteractive('df-693e51e4-afd0-4e09-bed6-34b6d2768a04')\"\n",
              "              title=\"Convert this dataframe to an interactive table.\"\n",
              "              style=\"display:none;\">\n",
              "        \n",
              "  <svg xmlns=\"http://www.w3.org/2000/svg\" height=\"24px\"viewBox=\"0 0 24 24\"\n",
              "       width=\"24px\">\n",
              "    <path d=\"M0 0h24v24H0V0z\" fill=\"none\"/>\n",
              "    <path d=\"M18.56 5.44l.94 2.06.94-2.06 2.06-.94-2.06-.94-.94-2.06-.94 2.06-2.06.94zm-11 1L8.5 8.5l.94-2.06 2.06-.94-2.06-.94L8.5 2.5l-.94 2.06-2.06.94zm10 10l.94 2.06.94-2.06 2.06-.94-2.06-.94-.94-2.06-.94 2.06-2.06.94z\"/><path d=\"M17.41 7.96l-1.37-1.37c-.4-.4-.92-.59-1.43-.59-.52 0-1.04.2-1.43.59L10.3 9.45l-7.72 7.72c-.78.78-.78 2.05 0 2.83L4 21.41c.39.39.9.59 1.41.59.51 0 1.02-.2 1.41-.59l7.78-7.78 2.81-2.81c.8-.78.8-2.07 0-2.86zM5.41 20L4 18.59l7.72-7.72 1.47 1.35L5.41 20z\"/>\n",
              "  </svg>\n",
              "      </button>\n",
              "      \n",
              "  <style>\n",
              "    .colab-df-container {\n",
              "      display:flex;\n",
              "      flex-wrap:wrap;\n",
              "      gap: 12px;\n",
              "    }\n",
              "\n",
              "    .colab-df-convert {\n",
              "      background-color: #E8F0FE;\n",
              "      border: none;\n",
              "      border-radius: 50%;\n",
              "      cursor: pointer;\n",
              "      display: none;\n",
              "      fill: #1967D2;\n",
              "      height: 32px;\n",
              "      padding: 0 0 0 0;\n",
              "      width: 32px;\n",
              "    }\n",
              "\n",
              "    .colab-df-convert:hover {\n",
              "      background-color: #E2EBFA;\n",
              "      box-shadow: 0px 1px 2px rgba(60, 64, 67, 0.3), 0px 1px 3px 1px rgba(60, 64, 67, 0.15);\n",
              "      fill: #174EA6;\n",
              "    }\n",
              "\n",
              "    [theme=dark] .colab-df-convert {\n",
              "      background-color: #3B4455;\n",
              "      fill: #D2E3FC;\n",
              "    }\n",
              "\n",
              "    [theme=dark] .colab-df-convert:hover {\n",
              "      background-color: #434B5C;\n",
              "      box-shadow: 0px 1px 3px 1px rgba(0, 0, 0, 0.15);\n",
              "      filter: drop-shadow(0px 1px 2px rgba(0, 0, 0, 0.3));\n",
              "      fill: #FFFFFF;\n",
              "    }\n",
              "  </style>\n",
              "\n",
              "      <script>\n",
              "        const buttonEl =\n",
              "          document.querySelector('#df-693e51e4-afd0-4e09-bed6-34b6d2768a04 button.colab-df-convert');\n",
              "        buttonEl.style.display =\n",
              "          google.colab.kernel.accessAllowed ? 'block' : 'none';\n",
              "\n",
              "        async function convertToInteractive(key) {\n",
              "          const element = document.querySelector('#df-693e51e4-afd0-4e09-bed6-34b6d2768a04');\n",
              "          const dataTable =\n",
              "            await google.colab.kernel.invokeFunction('convertToInteractive',\n",
              "                                                     [key], {});\n",
              "          if (!dataTable) return;\n",
              "\n",
              "          const docLinkHtml = 'Like what you see? Visit the ' +\n",
              "            '<a target=\"_blank\" href=https://colab.research.google.com/notebooks/data_table.ipynb>data table notebook</a>'\n",
              "            + ' to learn more about interactive tables.';\n",
              "          element.innerHTML = '';\n",
              "          dataTable['output_type'] = 'display_data';\n",
              "          await google.colab.output.renderOutput(dataTable, element);\n",
              "          const docLink = document.createElement('div');\n",
              "          docLink.innerHTML = docLinkHtml;\n",
              "          element.appendChild(docLink);\n",
              "        }\n",
              "      </script>\n",
              "    </div>\n",
              "  </div>\n",
              "  "
            ]
          },
          "metadata": {},
          "execution_count": 5
        }
      ]
    },
    {
      "cell_type": "markdown",
      "source": [
        "#Image Preprocessing"
      ],
      "metadata": {
        "id": "Eblhm1cbQ7cw"
      }
    },
    {
      "cell_type": "code",
      "source": [
        "# baca data dengan opencv (ditampilkan gambar)\n",
        "\n",
        "def load_images_files(train_data):\n",
        "  # definisikan 2 list kosong\n",
        "  images = []\n",
        "  Y = []\n",
        "\n",
        "  for obj in train_data.values:\n",
        "    # index 0 ([0]) adalah kolom filename, (tidak menggunakan label karena untuk cv2 baca lewat lokasi nya)\n",
        "    img = cv2.imread(obj[0])\n",
        "    # smoothing\n",
        "    img_pred = cv2.GaussianBlur(img, (5, 5), 0)\n",
        "    # sharpening\n",
        "    kernel = np.array([[-1,-1,-1], \n",
        "                       [-1,9,-1], \n",
        "                       [-1,-1,-1]])\n",
        "    img_pred = cv2.filter2D(img_pred, -1, kernel)\n",
        "    # resize\n",
        "    img_pred = cv2.resize(img, (128, 128), interpolation = cv2.INTER_AREA)\n",
        "    # ubah rentang pixel yang awalnya 0 - 255 menjadi 0 - 1 (tidak dilakukan juga gapapa)\n",
        "    img_pred = img_pred / 255\n",
        "    # algoritma nearest neighbour bekerja pada 1 dimensi\n",
        "    # ada 3 perkalian karena gambar berwarna, punya 3 channel rgb\n",
        "    img_pred = img_pred.reshape(img_pred.shape[0] * img_pred.shape[1] * img_pred.shape[2])\n",
        "    \n",
        "    # masukkan ke list images\n",
        "    images.append(img_pred)\n",
        "    # tiap row yang ada di Y merepresentasikan label yang ada di images\n",
        "    Y.append(obj[1])\n",
        "    \n",
        "  X = np.array(images)\n",
        "  Y = np.array(Y)\n",
        "  \n",
        "  return X, Y"
      ],
      "metadata": {
        "id": "rSOnJA2PRBZe"
      },
      "execution_count": 6,
      "outputs": []
    },
    {
      "cell_type": "code",
      "source": [
        "# Split into training and testing data\n",
        "X, y = load_images_files(dataset)\n",
        "\n",
        "X_train, X_test, y_train, y_test = train_test_split(X, y, random_state = 21, test_size = 0.3) #test size = 30% untuk testing, 70% untuk training\n",
        "\n",
        "print(\"Data shape: \", X.shape)\n",
        "print(y.shape)\n",
        "print(\"X_train: \", X_train.shape) #70% dari data shape\n",
        "print(\"y_train: \", y_train.shape)\n",
        "print(\"X_test: \", X_test.shape) #30% dari data shape\n",
        "print(\"y_test: \", y_test.shape)"
      ],
      "metadata": {
        "colab": {
          "base_uri": "https://localhost:8080/"
        },
        "id": "Y4rzb6HIYx93",
        "outputId": "efd171e7-c2fb-45e9-f8a9-5c57b995c788"
      },
      "execution_count": 7,
      "outputs": [
        {
          "output_type": "stream",
          "name": "stdout",
          "text": [
            "Data shape:  (2188, 49152)\n",
            "(2188,)\n",
            "X_train:  (1531, 49152)\n",
            "y_train:  (1531,)\n",
            "X_test:  (657, 49152)\n",
            "y_test:  (657,)\n"
          ]
        }
      ]
    },
    {
      "cell_type": "markdown",
      "source": [
        "# Method"
      ],
      "metadata": {
        "id": "7OvaMqIkf9el"
      }
    },
    {
      "cell_type": "markdown",
      "source": [
        "## Gaussian Naive Bayes"
      ],
      "metadata": {
        "id": "4m7LKeAHgCkV"
      }
    },
    {
      "cell_type": "code",
      "source": [
        "# training the model on training set\n",
        "from sklearn.naive_bayes import GaussianNB\n",
        "gnb = GaussianNB()\n",
        "gnb.fit(X_train, y_train)\n",
        "\n",
        "# making predictions on the testing set\n",
        "y_pred = gnb.predict(X_test)\n",
        "\n",
        "# comparing actual response values (y_test) with predicted response values (y_pred)\n",
        "from sklearn import metrics\n",
        "GNBVal = metrics.accuracy_score(y_test, y_pred)*100\n",
        "print(\"Gaussian Naive Bayes model accuracy(in %):\", GNBVal)"
      ],
      "metadata": {
        "colab": {
          "base_uri": "https://localhost:8080/"
        },
        "id": "BL5FO52kfw-u",
        "outputId": "2e23a244-dfbb-4e9a-ab18-d7845a8582e8"
      },
      "execution_count": 15,
      "outputs": [
        {
          "output_type": "stream",
          "name": "stdout",
          "text": [
            "Gaussian Naive Bayes model accuracy(in %): 79.45205479452055\n"
          ]
        }
      ]
    },
    {
      "cell_type": "markdown",
      "source": [
        "##Random Forest"
      ],
      "metadata": {
        "id": "kLQlDAnPoL8X"
      }
    },
    {
      "cell_type": "code",
      "source": [
        "from sklearn import ensemble\n",
        "from sklearn.metrics import accuracy_score\n",
        "\n",
        "rf = ensemble.RandomForestClassifier(n_estimators=100)\n",
        "\n",
        "# Train the model on training data\n",
        "rf.fit(X_train, y_train)\n",
        "# Use the forest's predict method on the test data\n",
        "y_pred = rf.predict(X_test)\n",
        "RFVal = accuracy_score(y_test, y_pred)*100\n",
        "print(\"Random Forest model accuracy(in %):\", RFVal)"
      ],
      "metadata": {
        "colab": {
          "base_uri": "https://localhost:8080/"
        },
        "id": "3hSMse8xhUaS",
        "outputId": "1118013a-a32b-434e-cf47-30bdb850104c"
      },
      "execution_count": 16,
      "outputs": [
        {
          "output_type": "stream",
          "name": "stdout",
          "text": [
            "Random Forest model accuracy(in %): 95.8904109589041\n"
          ]
        }
      ]
    },
    {
      "cell_type": "markdown",
      "source": [
        "##Decision Tree"
      ],
      "metadata": {
        "id": "hc_gjRTHqMuY"
      }
    },
    {
      "cell_type": "code",
      "source": [
        "# Run this program on your local python\n",
        "# interpreter, provided you have installed\n",
        "# the required libraries.\n",
        "  \n",
        "# Importing the required packages\n",
        "import numpy as np\n",
        "import pandas as pd\n",
        "from sklearn.metrics import confusion_matrix\n",
        "from sklearn.model_selection import train_test_split\n",
        "from sklearn.tree import DecisionTreeClassifier\n",
        "from sklearn.metrics import accuracy_score\n",
        "from sklearn.metrics import classification_report\n",
        "\n",
        "# Function to perform training with giniIndex.\n",
        "def train_using_gini(X_train, X_test, y_train):\n",
        "  \n",
        "    # Creating the classifier object\n",
        "    clf_gini = DecisionTreeClassifier(criterion = \"gini\",\n",
        "            random_state = 100,max_depth=3, min_samples_leaf=5)\n",
        "  \n",
        "    # Performing training\n",
        "    clf_gini.fit(X_train, y_train)\n",
        "    return clf_gini\n",
        "      \n",
        "# Function to perform training with entropy.\n",
        "def tarin_using_entropy(X_train, X_test, y_train):\n",
        "  \n",
        "    # Decision tree with entropy\n",
        "    clf_entropy = DecisionTreeClassifier(\n",
        "            criterion = \"entropy\", random_state = 100,\n",
        "            max_depth = 3, min_samples_leaf = 5)\n",
        "  \n",
        "    # Performing training\n",
        "    clf_entropy.fit(X_train, y_train)\n",
        "    return clf_entropy\n",
        "  \n",
        "  \n",
        "# Function to make predictions\n",
        "def prediction(X_test, clf_object):\n",
        "  \n",
        "    # Predicton on test with giniIndex\n",
        "    y_pred = clf_object.predict(X_test)\n",
        "    #print(\"Predicted values:\")\n",
        "    #print(y_pred)\n",
        "    return y_pred\n",
        "      \n",
        "\n",
        "      \n",
        "# Building Phase\n",
        "clf_gini = train_using_gini(X_train, X_test, y_train)\n",
        "clf_entropy = tarin_using_entropy(X_train, X_test, y_train)\n",
        "  \n",
        "# Prediction using gini\n",
        "y_pred_gini = prediction(X_test, clf_gini)\n",
        "DTVal =accuracy_score(y_test,y_pred)*100\n",
        "print(\"Decision Tree model accuracy(in %):\",DTVal)"
      ],
      "metadata": {
        "colab": {
          "base_uri": "https://localhost:8080/"
        },
        "id": "r0OBgrVDqkw2",
        "outputId": "ef04c3b0-e950-4329-d3f6-5b0c849620e0"
      },
      "execution_count": 18,
      "outputs": [
        {
          "output_type": "stream",
          "name": "stdout",
          "text": [
            "Decision Tree model accuracy(in %): 95.8904109589041\n"
          ]
        }
      ]
    },
    {
      "cell_type": "markdown",
      "source": [
        "##K-Nearest Neighbors"
      ],
      "metadata": {
        "id": "kCno7Ybmp2QO"
      }
    },
    {
      "cell_type": "code",
      "source": [
        "from sklearn.neighbors import KNeighborsClassifier\n",
        "from sklearn.metrics import confusion_matrix, accuracy_score\n",
        "\n",
        "KNNVal = 0\n",
        "\n",
        "for i in range(1, 16):\n",
        "  knn = KNeighborsClassifier(n_neighbors=i, metric='euclidean')\n",
        "  knn.fit(X_train, y_train)\n",
        "  y_pred = knn.predict(X_test)\n",
        "  KNNVal = accuracy_score(y_test, y_pred)*100\n",
        "  print('K=', i, 'Accuracy Score(in %):', KNNVal)"
      ],
      "metadata": {
        "colab": {
          "base_uri": "https://localhost:8080/"
        },
        "id": "XgGmRjFHs-D3",
        "outputId": "44ed214c-ac46-4f7f-f63e-5611ebdf941e"
      },
      "execution_count": 19,
      "outputs": [
        {
          "output_type": "stream",
          "name": "stdout",
          "text": [
            "K= 1 Accuracy Score(in %): 96.04261796042618\n",
            "K= 2 Accuracy Score(in %): 93.60730593607306\n",
            "K= 3 Accuracy Score(in %): 96.49923896499239\n",
            "K= 4 Accuracy Score(in %): 95.12937595129375\n",
            "K= 5 Accuracy Score(in %): 94.97716894977168\n",
            "K= 6 Accuracy Score(in %): 93.9117199391172\n",
            "K= 7 Accuracy Score(in %): 94.21613394216133\n",
            "K= 8 Accuracy Score(in %): 93.30289193302892\n",
            "K= 9 Accuracy Score(in %): 93.9117199391172\n",
            "K= 10 Accuracy Score(in %): 93.15068493150685\n",
            "K= 11 Accuracy Score(in %): 93.30289193302892\n",
            "K= 12 Accuracy Score(in %): 93.30289193302892\n",
            "K= 13 Accuracy Score(in %): 93.60730593607306\n",
            "K= 14 Accuracy Score(in %): 92.3896499238965\n",
            "K= 15 Accuracy Score(in %): 92.8462709284627\n"
          ]
        }
      ]
    },
    {
      "cell_type": "markdown",
      "source": [
        "##SVM"
      ],
      "metadata": {
        "id": "VpgoBfykuMRW"
      }
    },
    {
      "cell_type": "code",
      "source": [
        "#Classify the image using SVM Classifier\n",
        "from sklearn import svm\n",
        "#Createasvm Classifier\n",
        "clf=svm.SVC(kernel='linear')#Linear Kernel\n",
        "#Train the model using the training sets\n",
        "clf.fit(X_train,y_train)\n",
        "#Predict the response for test dataset\n",
        "y_pred=clf.predict(X_test)\n",
        "\n",
        "SVMVal = accuracy_score(y_test,y_pred)*100\n",
        "print(\"Accuracy Score (in %):\", SVMVal)"
      ],
      "metadata": {
        "colab": {
          "base_uri": "https://localhost:8080/"
        },
        "id": "CVeVx-KsuTMU",
        "outputId": "2b088869-f9e7-40a0-975e-f3a8aebb25dd"
      },
      "execution_count": 20,
      "outputs": [
        {
          "output_type": "stream",
          "name": "stdout",
          "text": [
            "Accuracy Score (in %): 93.30289193302892\n"
          ]
        }
      ]
    },
    {
      "cell_type": "markdown",
      "source": [
        "##K-Fold Cross Validation (belum fix)"
      ],
      "metadata": {
        "id": "nPMqn1hyw5bb"
      }
    },
    {
      "cell_type": "code",
      "source": [
        "import matplotlib.pyplot as plt\n",
        "\n",
        "# labels for bars\n",
        "x = ['GNB', 'RF', 'DT', 'KNN', 'SVM']\n",
        "\n",
        "# heights of bars\n",
        "y = [round(GNBVal,3), round(RFVal,3), round(DTVal,3), round(KNNVal,3), round(SVMVal,3)]\n",
        " \n",
        "# plotting a bar chart\n",
        "plt.bar(x, y)\n",
        "\n",
        "# add value labels\n",
        "for i in range(len(x)):\n",
        "  plt.text(i, y[i], y[i], ha=\"center\", va=\"bottom\")\n",
        "\n",
        "# plot title\n",
        "# plt.title('Perbandingan Cross Validation Score untuk tiap jenis Classifier', fontsize=14)\n",
        "# naming the x-axis\n",
        "plt.xlabel('Jenis Classifier', fontsize=14)\n",
        "# naming the y-axis\n",
        "plt.ylabel('Cross Validation Score', fontsize=14)\n",
        "\n",
        "plt.ylim(0,100)\n",
        "\n",
        "plt.grid(True)\n",
        "# function to show the plot\n",
        "plt.show()"
      ],
      "metadata": {
        "colab": {
          "base_uri": "https://localhost:8080/",
          "height": 287
        },
        "id": "FdqwtNLhw_-m",
        "outputId": "3170c708-e4f1-4bba-f74f-5f2021699440"
      },
      "execution_count": 21,
      "outputs": [
        {
          "output_type": "display_data",
          "data": {
            "text/plain": [
              "<Figure size 432x288 with 1 Axes>"
            ],
            "image/png": "[encoded data removed]"
          },
          "metadata": {
            "needs_background": "light"
          }
        }
      ]
    }
  ]
}